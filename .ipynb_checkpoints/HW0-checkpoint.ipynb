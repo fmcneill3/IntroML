{
 "cells": [
  {
   "cell_type": "code",
   "execution_count": 2,
   "id": "ecc48b63-872c-4db8-9254-e0db196995c8",
   "metadata": {},
   "outputs": [],
   "source": [
    "import numpy as np\n",
    "import pandas as pd\n",
    "import matplotlib.pyplot as plt"
   ]
  },
  {
   "cell_type": "code",
   "execution_count": 6,
   "id": "3872b309-30b8-4dc0-afac-b68372eb9b0a",
   "metadata": {},
   "outputs": [
    {
     "name": "stdout",
     "output_type": "stream",
     "text": [
      "           0         1         2         3\n",
      "0   0.000000  3.440000  0.440000  4.387545\n",
      "1   0.040404  0.134949  0.888485  2.679650\n",
      "2   0.080808  0.829899  1.336970  2.968490\n",
      "3   0.121212  1.524848  1.785455  3.254065\n",
      "4   0.161616  2.219798  2.233939  3.536375\n",
      "..       ...       ...       ...       ...\n",
      "95  3.838384  1.460202  3.046061 -4.440595\n",
      "96  3.878788  2.155152  3.494545 -4.458663\n",
      "97  3.919192  2.850101  3.943030 -4.479995\n",
      "98  3.959596  3.545051  0.391515 -3.304593\n",
      "99  4.000000  0.240000  0.840000 -5.332455\n",
      "\n",
      "[100 rows x 4 columns]\n"
     ]
    }
   ],
   "source": [
    "df = pd.read_csv('D3.csv',header= None)\n",
    "print(df)\n",
    "M=len(df)\n"
   ]
  },
  {
   "cell_type": "code",
   "execution_count": null,
   "id": "95aa0f17-dbfc-4157-abc7-8fe3e383e3aa",
   "metadata": {},
   "outputs": [],
   "source": []
  }
 ],
 "metadata": {
  "kernelspec": {
   "display_name": "Python 3",
   "language": "python",
   "name": "python3"
  },
  "language_info": {
   "codemirror_mode": {
    "name": "ipython",
    "version": 3
   },
   "file_extension": ".py",
   "mimetype": "text/x-python",
   "name": "python",
   "nbconvert_exporter": "python",
   "pygments_lexer": "ipython3",
   "version": "3.8.8"
  }
 },
 "nbformat": 4,
 "nbformat_minor": 5
}
