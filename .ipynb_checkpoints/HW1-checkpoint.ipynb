{
 "cells": [
  {
   "cell_type": "code",
   "execution_count": 1,
   "id": "ecc48b63-872c-4db8-9254-e0db196995c8",
   "metadata": {},
   "outputs": [],
   "source": [
    "import numpy as np\n",
    "import pandas as pd\n",
    "import matplotlib.pyplot as plt\n",
    "import seaborn as sns"
   ]
  },
  {
   "cell_type": "code",
   "execution_count": 2,
   "id": "ffa3a996-97e5-45cb-8992-ce9da3ea7dbc",
   "metadata": {},
   "outputs": [
    {
     "data": {
      "text/plain": [
       "<bound method NDFrame.head of         price  area  bedrooms  bathrooms  stories mainroad guestroom basement  \\\n",
       "0    13300000  7420         4          2        3      yes        no       no   \n",
       "1    12250000  8960         4          4        4      yes        no       no   \n",
       "2    12250000  9960         3          2        2      yes        no      yes   \n",
       "3    12215000  7500         4          2        2      yes        no      yes   \n",
       "4    11410000  7420         4          1        2      yes       yes      yes   \n",
       "..        ...   ...       ...        ...      ...      ...       ...      ...   \n",
       "540   1820000  3000         2          1        1      yes        no      yes   \n",
       "541   1767150  2400         3          1        1       no        no       no   \n",
       "542   1750000  3620         2          1        1      yes        no       no   \n",
       "543   1750000  2910         3          1        1       no        no       no   \n",
       "544   1750000  3850         3          1        2      yes        no       no   \n",
       "\n",
       "    hotwaterheating airconditioning  parking prefarea furnishingstatus  \n",
       "0                no             yes        2      yes        furnished  \n",
       "1                no             yes        3       no        furnished  \n",
       "2                no              no        2      yes   semi-furnished  \n",
       "3                no             yes        3      yes        furnished  \n",
       "4                no             yes        2       no        furnished  \n",
       "..              ...             ...      ...      ...              ...  \n",
       "540              no              no        2       no      unfurnished  \n",
       "541              no              no        0       no   semi-furnished  \n",
       "542              no              no        0       no      unfurnished  \n",
       "543              no              no        0       no        furnished  \n",
       "544              no              no        0       no      unfurnished  \n",
       "\n",
       "[545 rows x 13 columns]>"
      ]
     },
     "execution_count": 2,
     "metadata": {},
     "output_type": "execute_result"
    }
   ],
   "source": [
    "housing = pd.read_csv('Housing.csv')\n",
    "housing.head\n",
    "\n"
   ]
  },
  {
   "cell_type": "code",
   "execution_count": 3,
   "id": "fecb6ad6-b722-4c9f-b6d5-59e00efb807e",
   "metadata": {},
   "outputs": [
    {
     "data": {
      "text/plain": [
       "545"
      ]
     },
     "execution_count": 3,
     "metadata": {},
     "output_type": "execute_result"
    }
   ],
   "source": [
    "m = len(housing)\n",
    "m"
   ]
  },
  {
   "cell_type": "code",
   "execution_count": 4,
   "id": "020291fa-1381-4c31-8a42-985e2bb64cb3",
   "metadata": {},
   "outputs": [
    {
     "data": {
      "text/plain": [
       "(545, 13)"
      ]
     },
     "execution_count": 4,
     "metadata": {},
     "output_type": "execute_result"
    }
   ],
   "source": [
    "housing.shape"
   ]
  },
  {
   "cell_type": "code",
   "execution_count": 5,
   "id": "f51c6fcc-e005-4ec2-884c-7760629fc290",
   "metadata": {},
   "outputs": [],
   "source": [
    "#housing.info()"
   ]
  },
  {
   "cell_type": "code",
   "execution_count": 6,
   "id": "09f13db6-2039-4624-ab73-dc9b39e1b33b",
   "metadata": {},
   "outputs": [],
   "source": [
    "#housing.describe()"
   ]
  },
  {
   "cell_type": "code",
   "execution_count": 7,
   "id": "4aba8d0e-0e6b-40ca-aa6e-b61e93819d10",
   "metadata": {},
   "outputs": [
    {
     "data": {
      "text/html": [
       "<div>\n",
       "<style scoped>\n",
       "    .dataframe tbody tr th:only-of-type {\n",
       "        vertical-align: middle;\n",
       "    }\n",
       "\n",
       "    .dataframe tbody tr th {\n",
       "        vertical-align: top;\n",
       "    }\n",
       "\n",
       "    .dataframe thead th {\n",
       "        text-align: right;\n",
       "    }\n",
       "</style>\n",
       "<table border=\"1\" class=\"dataframe\">\n",
       "  <thead>\n",
       "    <tr style=\"text-align: right;\">\n",
       "      <th></th>\n",
       "      <th>price</th>\n",
       "      <th>area</th>\n",
       "      <th>bedrooms</th>\n",
       "      <th>bathrooms</th>\n",
       "      <th>stories</th>\n",
       "      <th>mainroad</th>\n",
       "      <th>guestroom</th>\n",
       "      <th>basement</th>\n",
       "      <th>hotwaterheating</th>\n",
       "      <th>airconditioning</th>\n",
       "      <th>parking</th>\n",
       "      <th>prefarea</th>\n",
       "      <th>furnishingstatus</th>\n",
       "    </tr>\n",
       "  </thead>\n",
       "  <tbody>\n",
       "    <tr>\n",
       "      <th>0</th>\n",
       "      <td>13300000</td>\n",
       "      <td>7420</td>\n",
       "      <td>4</td>\n",
       "      <td>2</td>\n",
       "      <td>3</td>\n",
       "      <td>1</td>\n",
       "      <td>0</td>\n",
       "      <td>0</td>\n",
       "      <td>0</td>\n",
       "      <td>1</td>\n",
       "      <td>2</td>\n",
       "      <td>1</td>\n",
       "      <td>furnished</td>\n",
       "    </tr>\n",
       "    <tr>\n",
       "      <th>1</th>\n",
       "      <td>12250000</td>\n",
       "      <td>8960</td>\n",
       "      <td>4</td>\n",
       "      <td>4</td>\n",
       "      <td>4</td>\n",
       "      <td>1</td>\n",
       "      <td>0</td>\n",
       "      <td>0</td>\n",
       "      <td>0</td>\n",
       "      <td>1</td>\n",
       "      <td>3</td>\n",
       "      <td>0</td>\n",
       "      <td>furnished</td>\n",
       "    </tr>\n",
       "    <tr>\n",
       "      <th>2</th>\n",
       "      <td>12250000</td>\n",
       "      <td>9960</td>\n",
       "      <td>3</td>\n",
       "      <td>2</td>\n",
       "      <td>2</td>\n",
       "      <td>1</td>\n",
       "      <td>0</td>\n",
       "      <td>1</td>\n",
       "      <td>0</td>\n",
       "      <td>0</td>\n",
       "      <td>2</td>\n",
       "      <td>1</td>\n",
       "      <td>semi-furnished</td>\n",
       "    </tr>\n",
       "    <tr>\n",
       "      <th>3</th>\n",
       "      <td>12215000</td>\n",
       "      <td>7500</td>\n",
       "      <td>4</td>\n",
       "      <td>2</td>\n",
       "      <td>2</td>\n",
       "      <td>1</td>\n",
       "      <td>0</td>\n",
       "      <td>1</td>\n",
       "      <td>0</td>\n",
       "      <td>1</td>\n",
       "      <td>3</td>\n",
       "      <td>1</td>\n",
       "      <td>furnished</td>\n",
       "    </tr>\n",
       "    <tr>\n",
       "      <th>4</th>\n",
       "      <td>11410000</td>\n",
       "      <td>7420</td>\n",
       "      <td>4</td>\n",
       "      <td>1</td>\n",
       "      <td>2</td>\n",
       "      <td>1</td>\n",
       "      <td>1</td>\n",
       "      <td>1</td>\n",
       "      <td>0</td>\n",
       "      <td>1</td>\n",
       "      <td>2</td>\n",
       "      <td>0</td>\n",
       "      <td>furnished</td>\n",
       "    </tr>\n",
       "  </tbody>\n",
       "</table>\n",
       "</div>"
      ],
      "text/plain": [
       "      price  area  bedrooms  bathrooms  stories  mainroad  guestroom  \\\n",
       "0  13300000  7420         4          2        3         1          0   \n",
       "1  12250000  8960         4          4        4         1          0   \n",
       "2  12250000  9960         3          2        2         1          0   \n",
       "3  12215000  7500         4          2        2         1          0   \n",
       "4  11410000  7420         4          1        2         1          1   \n",
       "\n",
       "   basement  hotwaterheating  airconditioning  parking  prefarea  \\\n",
       "0         0                0                1        2         1   \n",
       "1         0                0                1        3         0   \n",
       "2         1                0                0        2         1   \n",
       "3         1                0                1        3         1   \n",
       "4         1                0                1        2         0   \n",
       "\n",
       "  furnishingstatus  \n",
       "0        furnished  \n",
       "1        furnished  \n",
       "2   semi-furnished  \n",
       "3        furnished  \n",
       "4        furnished  "
      ]
     },
     "execution_count": 7,
     "metadata": {},
     "output_type": "execute_result"
    }
   ],
   "source": [
    "varlist = ['mainroad', 'guestroom', 'basement', 'hotwaterheating', 'airconditioning', 'prefarea']\n",
    "def binary_map(x):\n",
    "    return x.map({'yes':1, 'no': 0})\n",
    "housing[varlist] = housing[varlist].apply(binary_map)\n",
    "housing.head()\n"
   ]
  },
  {
   "cell_type": "code",
   "execution_count": 8,
   "id": "7fd0cafd-1961-455b-9142-99d5f4727bd7",
   "metadata": {},
   "outputs": [
    {
     "data": {
      "text/html": [
       "<div>\n",
       "<style scoped>\n",
       "    .dataframe tbody tr th:only-of-type {\n",
       "        vertical-align: middle;\n",
       "    }\n",
       "\n",
       "    .dataframe tbody tr th {\n",
       "        vertical-align: top;\n",
       "    }\n",
       "\n",
       "    .dataframe thead th {\n",
       "        text-align: right;\n",
       "    }\n",
       "</style>\n",
       "<table border=\"1\" class=\"dataframe\">\n",
       "  <thead>\n",
       "    <tr style=\"text-align: right;\">\n",
       "      <th></th>\n",
       "      <th>price</th>\n",
       "      <th>area</th>\n",
       "      <th>bedrooms</th>\n",
       "      <th>bathrooms</th>\n",
       "      <th>stories</th>\n",
       "      <th>mainroad</th>\n",
       "      <th>guestroom</th>\n",
       "      <th>basement</th>\n",
       "      <th>hotwaterheating</th>\n",
       "      <th>airconditioning</th>\n",
       "      <th>parking</th>\n",
       "      <th>prefarea</th>\n",
       "      <th>furnishingstatus</th>\n",
       "    </tr>\n",
       "  </thead>\n",
       "  <tbody>\n",
       "    <tr>\n",
       "      <th>0</th>\n",
       "      <td>13300000</td>\n",
       "      <td>7420</td>\n",
       "      <td>4</td>\n",
       "      <td>2</td>\n",
       "      <td>3</td>\n",
       "      <td>1</td>\n",
       "      <td>0</td>\n",
       "      <td>0</td>\n",
       "      <td>0</td>\n",
       "      <td>1</td>\n",
       "      <td>2</td>\n",
       "      <td>1</td>\n",
       "      <td>2</td>\n",
       "    </tr>\n",
       "    <tr>\n",
       "      <th>1</th>\n",
       "      <td>12250000</td>\n",
       "      <td>8960</td>\n",
       "      <td>4</td>\n",
       "      <td>4</td>\n",
       "      <td>4</td>\n",
       "      <td>1</td>\n",
       "      <td>0</td>\n",
       "      <td>0</td>\n",
       "      <td>0</td>\n",
       "      <td>1</td>\n",
       "      <td>3</td>\n",
       "      <td>0</td>\n",
       "      <td>2</td>\n",
       "    </tr>\n",
       "    <tr>\n",
       "      <th>2</th>\n",
       "      <td>12250000</td>\n",
       "      <td>9960</td>\n",
       "      <td>3</td>\n",
       "      <td>2</td>\n",
       "      <td>2</td>\n",
       "      <td>1</td>\n",
       "      <td>0</td>\n",
       "      <td>1</td>\n",
       "      <td>0</td>\n",
       "      <td>0</td>\n",
       "      <td>2</td>\n",
       "      <td>1</td>\n",
       "      <td>1</td>\n",
       "    </tr>\n",
       "    <tr>\n",
       "      <th>3</th>\n",
       "      <td>12215000</td>\n",
       "      <td>7500</td>\n",
       "      <td>4</td>\n",
       "      <td>2</td>\n",
       "      <td>2</td>\n",
       "      <td>1</td>\n",
       "      <td>0</td>\n",
       "      <td>1</td>\n",
       "      <td>0</td>\n",
       "      <td>1</td>\n",
       "      <td>3</td>\n",
       "      <td>1</td>\n",
       "      <td>2</td>\n",
       "    </tr>\n",
       "    <tr>\n",
       "      <th>4</th>\n",
       "      <td>11410000</td>\n",
       "      <td>7420</td>\n",
       "      <td>4</td>\n",
       "      <td>1</td>\n",
       "      <td>2</td>\n",
       "      <td>1</td>\n",
       "      <td>1</td>\n",
       "      <td>1</td>\n",
       "      <td>0</td>\n",
       "      <td>1</td>\n",
       "      <td>2</td>\n",
       "      <td>0</td>\n",
       "      <td>2</td>\n",
       "    </tr>\n",
       "  </tbody>\n",
       "</table>\n",
       "</div>"
      ],
      "text/plain": [
       "      price  area  bedrooms  bathrooms  stories  mainroad  guestroom  \\\n",
       "0  13300000  7420         4          2        3         1          0   \n",
       "1  12250000  8960         4          4        4         1          0   \n",
       "2  12250000  9960         3          2        2         1          0   \n",
       "3  12215000  7500         4          2        2         1          0   \n",
       "4  11410000  7420         4          1        2         1          1   \n",
       "\n",
       "   basement  hotwaterheating  airconditioning  parking  prefarea  \\\n",
       "0         0                0                1        2         1   \n",
       "1         0                0                1        3         0   \n",
       "2         1                0                0        2         1   \n",
       "3         1                0                1        3         1   \n",
       "4         1                0                1        2         0   \n",
       "\n",
       "   furnishingstatus  \n",
       "0                 2  \n",
       "1                 2  \n",
       "2                 1  \n",
       "3                 2  \n",
       "4                 2  "
      ]
     },
     "execution_count": 8,
     "metadata": {},
     "output_type": "execute_result"
    }
   ],
   "source": [
    "varleft = ['furnishingstatus']\n",
    "def furn_map(y):\n",
    "    return y.map({'furnished': 2, 'semi-furnished': 1, 'unfurnished': 0})\n",
    "housing[varleft] = housing[varleft].apply(furn_map)\n",
    "housing.head()\n"
   ]
  },
  {
   "cell_type": "code",
   "execution_count": 9,
   "id": "fd20d0e4-71db-4932-a741-36c00ebf59e1",
   "metadata": {},
   "outputs": [],
   "source": [
    "from sklearn.model_selection import train_test_split"
   ]
  },
  {
   "cell_type": "code",
   "execution_count": 10,
   "id": "6108cadd-8685-4ce3-a8e4-f73bffde9623",
   "metadata": {},
   "outputs": [
    {
     "data": {
      "text/plain": [
       "(381, 13)"
      ]
     },
     "execution_count": 10,
     "metadata": {},
     "output_type": "execute_result"
    }
   ],
   "source": [
    "np.random.seed(0)\n",
    "df_train, df_test = train_test_split(housing, train_size = 0.7, test_size = 0.3, random_state = 42)\n",
    "df_train.shape"
   ]
  },
  {
   "cell_type": "code",
   "execution_count": 11,
   "id": "e1913818-e247-495f-a1c4-97084924d0be",
   "metadata": {},
   "outputs": [
    {
     "data": {
      "text/plain": [
       "(164, 13)"
      ]
     },
     "execution_count": 11,
     "metadata": {},
     "output_type": "execute_result"
    }
   ],
   "source": [
    "df_test.shape"
   ]
  },
  {
   "cell_type": "code",
   "execution_count": 12,
   "id": "a04ef032-320b-4dd1-9bc6-1e240a740ac9",
   "metadata": {},
   "outputs": [
    {
     "data": {
      "text/html": [
       "<div>\n",
       "<style scoped>\n",
       "    .dataframe tbody tr th:only-of-type {\n",
       "        vertical-align: middle;\n",
       "    }\n",
       "\n",
       "    .dataframe tbody tr th {\n",
       "        vertical-align: top;\n",
       "    }\n",
       "\n",
       "    .dataframe thead th {\n",
       "        text-align: right;\n",
       "    }\n",
       "</style>\n",
       "<table border=\"1\" class=\"dataframe\">\n",
       "  <thead>\n",
       "    <tr style=\"text-align: right;\">\n",
       "      <th></th>\n",
       "      <th>area</th>\n",
       "      <th>bedrooms</th>\n",
       "      <th>bathrooms</th>\n",
       "      <th>stories</th>\n",
       "      <th>parking</th>\n",
       "      <th>price</th>\n",
       "    </tr>\n",
       "  </thead>\n",
       "  <tbody>\n",
       "    <tr>\n",
       "      <th>126</th>\n",
       "      <td>7160</td>\n",
       "      <td>3</td>\n",
       "      <td>1</td>\n",
       "      <td>1</td>\n",
       "      <td>2</td>\n",
       "      <td>5880000</td>\n",
       "    </tr>\n",
       "    <tr>\n",
       "      <th>363</th>\n",
       "      <td>3584</td>\n",
       "      <td>2</td>\n",
       "      <td>1</td>\n",
       "      <td>1</td>\n",
       "      <td>0</td>\n",
       "      <td>3710000</td>\n",
       "    </tr>\n",
       "    <tr>\n",
       "      <th>370</th>\n",
       "      <td>4280</td>\n",
       "      <td>2</td>\n",
       "      <td>1</td>\n",
       "      <td>1</td>\n",
       "      <td>2</td>\n",
       "      <td>3640000</td>\n",
       "    </tr>\n",
       "    <tr>\n",
       "      <th>31</th>\n",
       "      <td>7000</td>\n",
       "      <td>3</td>\n",
       "      <td>1</td>\n",
       "      <td>4</td>\n",
       "      <td>2</td>\n",
       "      <td>8400000</td>\n",
       "    </tr>\n",
       "    <tr>\n",
       "      <th>113</th>\n",
       "      <td>9620</td>\n",
       "      <td>3</td>\n",
       "      <td>1</td>\n",
       "      <td>1</td>\n",
       "      <td>2</td>\n",
       "      <td>6083000</td>\n",
       "    </tr>\n",
       "  </tbody>\n",
       "</table>\n",
       "</div>"
      ],
      "text/plain": [
       "     area  bedrooms  bathrooms  stories  parking    price\n",
       "126  7160         3          1        1        2  5880000\n",
       "363  3584         2          1        1        0  3710000\n",
       "370  4280         2          1        1        2  3640000\n",
       "31   7000         3          1        4        2  8400000\n",
       "113  9620         3          1        1        2  6083000"
      ]
     },
     "execution_count": 12,
     "metadata": {},
     "output_type": "execute_result"
    }
   ],
   "source": [
    "num_vars = ['area', 'bedrooms', 'bathrooms', 'stories', 'parking', 'price']\n",
    "df_Newtrain = df_train[num_vars]\n",
    "df_Newtest = df_test[num_vars]\n",
    "df_Newtrain.head()"
   ]
  },
  {
   "cell_type": "code",
   "execution_count": 13,
   "id": "7cf21ad7-498c-49e8-aa5d-13e40f7b03bf",
   "metadata": {},
   "outputs": [
    {
     "data": {
      "text/plain": [
       "(381, 6)"
      ]
     },
     "execution_count": 13,
     "metadata": {},
     "output_type": "execute_result"
    }
   ],
   "source": [
    "df_Newtrain.shape"
   ]
  },
  {
   "cell_type": "code",
   "execution_count": 14,
   "id": "835260c4-d909-4719-a1d4-fadfc4d6c39c",
   "metadata": {},
   "outputs": [],
   "source": [
    "#import warnings\n",
    "#warnings.filterwarnings('ignore')\n",
    "\n",
    "#from sklearn.preprocessing import MinMaxScaler, StandardScaler\n",
    "\n",
    "#scaler = StandardScaler()\n",
    "#df_Newtrain[num_vars] = scaler.fit_transform(df_Newtrain[num_vars])\n",
    "#df_Newtrain.head(20)\n",
    "#df_Newtest[num_vars] = scaler.fit_transform(df_Newtest[num_vars])"
   ]
  },
  {
   "cell_type": "code",
   "execution_count": 15,
   "id": "219b2594-80e3-499d-992d-2cf46a21ba13",
   "metadata": {},
   "outputs": [
    {
     "data": {
      "text/html": [
       "<div>\n",
       "<style scoped>\n",
       "    .dataframe tbody tr th:only-of-type {\n",
       "        vertical-align: middle;\n",
       "    }\n",
       "\n",
       "    .dataframe tbody tr th {\n",
       "        vertical-align: top;\n",
       "    }\n",
       "\n",
       "    .dataframe thead th {\n",
       "        text-align: right;\n",
       "    }\n",
       "</style>\n",
       "<table border=\"1\" class=\"dataframe\">\n",
       "  <thead>\n",
       "    <tr style=\"text-align: right;\">\n",
       "      <th></th>\n",
       "      <th>area</th>\n",
       "      <th>bedrooms</th>\n",
       "      <th>bathrooms</th>\n",
       "      <th>stories</th>\n",
       "      <th>parking</th>\n",
       "      <th>price</th>\n",
       "    </tr>\n",
       "  </thead>\n",
       "  <tbody>\n",
       "    <tr>\n",
       "      <th>126</th>\n",
       "      <td>7160</td>\n",
       "      <td>3</td>\n",
       "      <td>1</td>\n",
       "      <td>1</td>\n",
       "      <td>2</td>\n",
       "      <td>5880000</td>\n",
       "    </tr>\n",
       "    <tr>\n",
       "      <th>363</th>\n",
       "      <td>3584</td>\n",
       "      <td>2</td>\n",
       "      <td>1</td>\n",
       "      <td>1</td>\n",
       "      <td>0</td>\n",
       "      <td>3710000</td>\n",
       "    </tr>\n",
       "    <tr>\n",
       "      <th>370</th>\n",
       "      <td>4280</td>\n",
       "      <td>2</td>\n",
       "      <td>1</td>\n",
       "      <td>1</td>\n",
       "      <td>2</td>\n",
       "      <td>3640000</td>\n",
       "    </tr>\n",
       "    <tr>\n",
       "      <th>31</th>\n",
       "      <td>7000</td>\n",
       "      <td>3</td>\n",
       "      <td>1</td>\n",
       "      <td>4</td>\n",
       "      <td>2</td>\n",
       "      <td>8400000</td>\n",
       "    </tr>\n",
       "    <tr>\n",
       "      <th>113</th>\n",
       "      <td>9620</td>\n",
       "      <td>3</td>\n",
       "      <td>1</td>\n",
       "      <td>1</td>\n",
       "      <td>2</td>\n",
       "      <td>6083000</td>\n",
       "    </tr>\n",
       "  </tbody>\n",
       "</table>\n",
       "</div>"
      ],
      "text/plain": [
       "     area  bedrooms  bathrooms  stories  parking    price\n",
       "126  7160         3          1        1        2  5880000\n",
       "363  3584         2          1        1        0  3710000\n",
       "370  4280         2          1        1        2  3640000\n",
       "31   7000         3          1        4        2  8400000\n",
       "113  9620         3          1        1        2  6083000"
      ]
     },
     "execution_count": 15,
     "metadata": {},
     "output_type": "execute_result"
    }
   ],
   "source": [
    "df_Newtrain[:5]"
   ]
  },
  {
   "cell_type": "code",
   "execution_count": 16,
   "id": "20992267-b0e9-4354-854e-966364c18b25",
   "metadata": {},
   "outputs": [],
   "source": [
    "SortNewTrain = df_Newtrain.sort_values(by=[\"price\"])\n",
    "\n",
    "y_Newtrain = SortNewTrain.pop('price')\n",
    "X_Newtrain = SortNewTrain"
   ]
  },
  {
   "cell_type": "code",
   "execution_count": 17,
   "id": "935ff0a4-ee79-41b8-9af2-58ab119f6957",
   "metadata": {},
   "outputs": [],
   "source": [
    "df_Newtest = df_Newtest.sort_values(by=[\"price\"])"
   ]
  },
  {
   "cell_type": "code",
   "execution_count": 18,
   "id": "3d3da570-9d95-4a70-9534-7a57d3b6c723",
   "metadata": {},
   "outputs": [],
   "source": [
    "y_Newtest = df_Newtest.pop('price')\n",
    "X_Newtest = df_Newtest"
   ]
  },
  {
   "cell_type": "code",
   "execution_count": 19,
   "id": "b1c07a8f-6c33-4b02-ae43-f8d516a8ee85",
   "metadata": {},
   "outputs": [],
   "source": [
    "#y_Newtest.head()"
   ]
  },
  {
   "cell_type": "code",
   "execution_count": 20,
   "id": "6853dbcd-fc61-4859-b0d1-850ab1decd4d",
   "metadata": {},
   "outputs": [],
   "source": [
    "#X_Newtest.head()"
   ]
  },
  {
   "cell_type": "code",
   "execution_count": 21,
   "id": "ecc29c5c-fca3-44cd-9d06-8ae79945f6e5",
   "metadata": {},
   "outputs": [],
   "source": [
    "#X_Newtrain.head()\n"
   ]
  },
  {
   "cell_type": "code",
   "execution_count": 22,
   "id": "a8cb0989-9d68-4f16-97cc-dbfa405e39a4",
   "metadata": {},
   "outputs": [],
   "source": [
    "#y_Newtrain.head()"
   ]
  },
  {
   "cell_type": "code",
   "execution_count": 23,
   "id": "184c9160-4eb2-4b4e-919a-c4b66d5a5cfb",
   "metadata": {},
   "outputs": [],
   "source": [
    "Y = y_Newtrain.values\n",
    "Y[:5]\n",
    "m = len(Y)"
   ]
  },
  {
   "cell_type": "code",
   "execution_count": 24,
   "id": "80cb2ec4-cb8e-4b51-af39-8a314eb24cdd",
   "metadata": {},
   "outputs": [
    {
     "data": {
      "text/plain": [
       "(381, 5)"
      ]
     },
     "execution_count": 24,
     "metadata": {},
     "output_type": "execute_result"
    }
   ],
   "source": [
    "X = X_Newtrain.values\n",
    "X.shape"
   ]
  },
  {
   "cell_type": "code",
   "execution_count": 25,
   "id": "1055a6bc-da2b-444c-9c4d-68255e04177e",
   "metadata": {},
   "outputs": [
    {
     "data": {
      "text/plain": [
       "(381, 1)"
      ]
     },
     "execution_count": 25,
     "metadata": {},
     "output_type": "execute_result"
    }
   ],
   "source": [
    "x_0 = np.ones((m,1))\n",
    "x_0.shape"
   ]
  },
  {
   "cell_type": "code",
   "execution_count": 26,
   "id": "e292bb5c-98d5-4c54-b94e-480d9915ab76",
   "metadata": {},
   "outputs": [
    {
     "data": {
      "text/plain": [
       "array([[1.00e+00, 3.62e+03, 2.00e+00, 1.00e+00, 1.00e+00, 0.00e+00],\n",
       "       [1.00e+00, 2.99e+03, 2.00e+00, 1.00e+00, 1.00e+00, 1.00e+00],\n",
       "       [1.00e+00, 3.42e+03, 5.00e+00, 1.00e+00, 2.00e+00, 0.00e+00],\n",
       "       [1.00e+00, 3.00e+03, 4.00e+00, 1.00e+00, 2.00e+00, 0.00e+00],\n",
       "       [1.00e+00, 3.36e+03, 2.00e+00, 1.00e+00, 1.00e+00, 1.00e+00]])"
      ]
     },
     "execution_count": 26,
     "metadata": {},
     "output_type": "execute_result"
    }
   ],
   "source": [
    "X1 = np.hstack((x_0, X))\n",
    "X1[:5]"
   ]
  },
  {
   "cell_type": "code",
   "execution_count": 27,
   "id": "d2124514-3280-4840-b06a-d91293d2c77c",
   "metadata": {},
   "outputs": [
    {
     "data": {
      "text/plain": [
       "(164, 1)"
      ]
     },
     "execution_count": 27,
     "metadata": {},
     "output_type": "execute_result"
    }
   ],
   "source": [
    "YT = y_Newtest.values\n",
    "n = len(YT)\n",
    "xt_0 = np.ones((n,1))\n",
    "xt_0.shape"
   ]
  },
  {
   "cell_type": "code",
   "execution_count": 28,
   "id": "6d0f51a7-85e4-446c-8861-a11645fa2f55",
   "metadata": {},
   "outputs": [
    {
     "data": {
      "text/plain": [
       "(164, 5)"
      ]
     },
     "execution_count": 28,
     "metadata": {},
     "output_type": "execute_result"
    }
   ],
   "source": [
    "xe = X_Newtest.values \n",
    "xe.shape"
   ]
  },
  {
   "cell_type": "code",
   "execution_count": 29,
   "id": "fc7e5332-ff14-4800-aa53-d883c315e8dc",
   "metadata": {},
   "outputs": [],
   "source": [
    "XE = np.hstack((xt_0, xe))"
   ]
  },
  {
   "cell_type": "code",
   "execution_count": 30,
   "id": "4db456ba-8d33-49dd-aa05-031e41130217",
   "metadata": {},
   "outputs": [
    {
     "data": {
      "text/plain": [
       "array([7160, 3584, 4280, 7000, 9620])"
      ]
     },
     "execution_count": 30,
     "metadata": {},
     "output_type": "execute_result"
    }
   ],
   "source": [
    "X0 = df_Newtrain.values[:,0]\n",
    "X0[:5]"
   ]
  },
  {
   "cell_type": "code",
   "execution_count": 31,
   "id": "80e08d3b-9c22-4a85-9b29-5a98565f4453",
   "metadata": {},
   "outputs": [
    {
     "data": {
      "text/plain": [
       "(6,)"
      ]
     },
     "execution_count": 31,
     "metadata": {},
     "output_type": "execute_result"
    }
   ],
   "source": [
    "Theta = np.zeros(6)\n",
    "Theta.shape"
   ]
  },
  {
   "cell_type": "code",
   "execution_count": 32,
   "id": "21966a1a-56b6-4f70-b573-073d179e331d",
   "metadata": {},
   "outputs": [],
   "source": [
    "def compute_cost(X, Y, theta):\n",
    " predictions = X.dot(theta)\n",
    " errors = np.subtract(predictions, Y)\n",
    " sqrErrors = np.square(errors)\n",
    " J = 1 / (2 * m) * np.sum(sqrErrors)\n",
    " return J"
   ]
  },
  {
   "cell_type": "code",
   "execution_count": 33,
   "id": "612d7ddf-088d-48c4-821f-ecbfd7d39a0b",
   "metadata": {},
   "outputs": [],
   "source": [
    "def gradient_descent(X, Y, theta, alpha, iterations, X1, Y1):\n",
    "\n",
    " cost_history = np.zeros(iterations)\n",
    " cost_historyEval = np.zeros(iterations)\n",
    " for i in range(iterations):\n",
    "    predictions = X.dot(theta)\n",
    "    errors = np.subtract(predictions, Y)\n",
    "    sum_delta = (alpha / m) * X.transpose().dot(errors);\n",
    "    theta = theta - sum_delta;\n",
    "    cost_history[i] = compute_cost(X, Y, theta)\n",
    "    cost_historyEval[i] = compute_cost(X1, Y1, theta)\n",
    " return theta, cost_history, cost_historyEval"
   ]
  },
  {
   "cell_type": "code",
   "execution_count": null,
   "id": "c6f15363-8e07-4817-bcb8-a2b769237532",
   "metadata": {},
   "outputs": [],
   "source": []
  },
  {
   "cell_type": "code",
   "execution_count": 34,
   "id": "2e9ff15a-b1c1-4784-b10f-533b90d029fd",
   "metadata": {},
   "outputs": [],
   "source": [
    "iterations = 500;\n",
    "alpha = 0.0000000001;\n",
    "itx = list(range(1,iterations+1))"
   ]
  },
  {
   "cell_type": "code",
   "execution_count": 35,
   "id": "a157ac69-8c37-4fe7-9f53-cf13e03fc9f9",
   "metadata": {},
   "outputs": [
    {
     "name": "stdout",
     "output_type": "stream",
     "text": [
      "Final value of thetas = [1.30238981e-01 6.74709045e+02 4.05376305e-01 1.82431306e-01\n",
      " 2.59887690e-01 1.02958042e-01]\n",
      "cost_history = [1.28406656e+13 1.27707279e+13 1.27012236e+13 1.26321500e+13\n",
      " 1.25635043e+13]\n"
     ]
    }
   ],
   "source": [
    "thetas, cost_history, cost_historyEval = gradient_descent(X1, Y, Theta, alpha, iterations, XE, YT)\n",
    "print('Final value of thetas =', thetas)\n",
    "print('cost_history =', cost_history[:5])"
   ]
  },
  {
   "cell_type": "code",
   "execution_count": 36,
   "id": "cfd1b8f0-bf98-4cc8-a6a0-d344c9c0b764",
   "metadata": {},
   "outputs": [],
   "source": [
    "numT = list(range(1,m+1))\n",
    "numE = list(range(1,n+1))"
   ]
  },
  {
   "cell_type": "code",
   "execution_count": 37,
   "id": "1226fb0c-fcf9-40bd-b0ad-a1f6924a987b",
   "metadata": {},
   "outputs": [
    {
     "data": {
      "text/plain": [
       "<matplotlib.legend.Legend at 0x7fa6306acf70>"
      ]
     },
     "execution_count": 37,
     "metadata": {},
     "output_type": "execute_result"
    },
    {
     "data": {
      "image/png": "[encoded data removed]",
      "text/plain": [
       "<Figure size 432x288 with 1 Axes>"
      ]
     },
     "metadata": {
      "needs_background": "light"
     },
     "output_type": "display_data"
    }
   ],
   "source": [
    "plt.scatter(numE, YT, color='red', marker= '+', label= 'Training Data')\n",
    "plt.plot(numE,(XE.dot(thetas)), color='green', label='Linear Regression')\n",
    "plt.rcParams[\"figure.figsize\"] = (10,6)\n",
    "plt.grid()\n",
    "plt.xlabel('M')\n",
    "plt.ylabel('Y')\n",
    "plt.title('Linear Regression Fit Cumulative')\n",
    "plt.legend()"
   ]
  },
  {
   "cell_type": "code",
   "execution_count": null,
   "id": "7922bb1f-f857-44db-b88b-097a752962ba",
   "metadata": {},
   "outputs": [],
   "source": [
    "\n"
   ]
  },
  {
   "cell_type": "code",
   "execution_count": 38,
   "id": "01eebaaa-0ff3-447f-a924-08a0f4542219",
   "metadata": {},
   "outputs": [
    {
     "data": {
      "text/plain": [
       "<matplotlib.legend.Legend at 0x7fa670db8640>"
      ]
     },
     "execution_count": 38,
     "metadata": {},
     "output_type": "execute_result"
    },
    {
     "data": {
      "image/png": "[encoded data removed]",
      "text/plain": [
       "<Figure size 720x432 with 1 Axes>"
      ]
     },
     "metadata": {
      "needs_background": "light"
     },
     "output_type": "display_data"
    }
   ],
   "source": [
    "plt.plot(itx, cost_history, color='red', label= 'Training Loss')\n",
    "plt.plot(itx,cost_historyEval, color='green', label='Test Loss')\n",
    "plt.rcParams[\"figure.figsize\"] = (10,6)\n",
    "plt.grid()\n",
    "plt.xlabel('Iteration')\n",
    "plt.ylabel('Loss')\n",
    "plt.title('Losses')\n",
    "plt.legend()"
   ]
  },
  {
   "cell_type": "code",
   "execution_count": 39,
   "id": "5c27d422-a51b-4706-8dfe-b7adddc39e2c",
   "metadata": {},
   "outputs": [],
   "source": [
    "# Part b."
   ]
  },
  {
   "cell_type": "code",
   "execution_count": 40,
   "id": "282d1160-4aaa-4b03-b65f-049e6e11cb44",
   "metadata": {},
   "outputs": [],
   "source": [
    "varsb = ['area', 'bedrooms', 'bathrooms', 'stories', 'mainroad', 'guestroom', 'basement', 'hotwaterheating', 'airconditioning', 'parking', 'prefarea', 'price']\n",
    "df_Newtrainb = df_train[varsb]\n",
    "df_Newtestb = df_test[varsb]"
   ]
  },
  {
   "cell_type": "code",
   "execution_count": 41,
   "id": "06734f00-ace4-4ea8-a898-ded137a2f152",
   "metadata": {},
   "outputs": [],
   "source": [
    "#import warnings\n",
    "#warnings.filterwarnings('ignore')\n",
    "\n",
    "#from sklearn.preprocessing import MinMaxScaler, StandardScaler\n",
    "\n",
    "#scaler = MinMaxScaler()\n",
    "#df_Newtrainb[varsb] = scaler.fit_transform(df_Newtrainb[varsb])\n",
    "#df_Newtrainb.head(20)\n",
    "#df_Newtestb[varsb] = scaler.fit_transform(df_Newtestb[varsb])"
   ]
  },
  {
   "cell_type": "code",
   "execution_count": 42,
   "id": "9fa8b281-b33f-4ff2-b4ff-3f9758236998",
   "metadata": {},
   "outputs": [
    {
     "data": {
      "text/html": [
       "<div>\n",
       "<style scoped>\n",
       "    .dataframe tbody tr th:only-of-type {\n",
       "        vertical-align: middle;\n",
       "    }\n",
       "\n",
       "    .dataframe tbody tr th {\n",
       "        vertical-align: top;\n",
       "    }\n",
       "\n",
       "    .dataframe thead th {\n",
       "        text-align: right;\n",
       "    }\n",
       "</style>\n",
       "<table border=\"1\" class=\"dataframe\">\n",
       "  <thead>\n",
       "    <tr style=\"text-align: right;\">\n",
       "      <th></th>\n",
       "      <th>area</th>\n",
       "      <th>bedrooms</th>\n",
       "      <th>bathrooms</th>\n",
       "      <th>stories</th>\n",
       "      <th>mainroad</th>\n",
       "      <th>guestroom</th>\n",
       "      <th>basement</th>\n",
       "      <th>hotwaterheating</th>\n",
       "      <th>airconditioning</th>\n",
       "      <th>parking</th>\n",
       "      <th>prefarea</th>\n",
       "      <th>price</th>\n",
       "    </tr>\n",
       "  </thead>\n",
       "  <tbody>\n",
       "    <tr>\n",
       "      <th>126</th>\n",
       "      <td>7160</td>\n",
       "      <td>3</td>\n",
       "      <td>1</td>\n",
       "      <td>1</td>\n",
       "      <td>1</td>\n",
       "      <td>0</td>\n",
       "      <td>1</td>\n",
       "      <td>0</td>\n",
       "      <td>0</td>\n",
       "      <td>2</td>\n",
       "      <td>1</td>\n",
       "      <td>5880000</td>\n",
       "    </tr>\n",
       "    <tr>\n",
       "      <th>363</th>\n",
       "      <td>3584</td>\n",
       "      <td>2</td>\n",
       "      <td>1</td>\n",
       "      <td>1</td>\n",
       "      <td>1</td>\n",
       "      <td>0</td>\n",
       "      <td>0</td>\n",
       "      <td>1</td>\n",
       "      <td>0</td>\n",
       "      <td>0</td>\n",
       "      <td>0</td>\n",
       "      <td>3710000</td>\n",
       "    </tr>\n",
       "    <tr>\n",
       "      <th>370</th>\n",
       "      <td>4280</td>\n",
       "      <td>2</td>\n",
       "      <td>1</td>\n",
       "      <td>1</td>\n",
       "      <td>1</td>\n",
       "      <td>0</td>\n",
       "      <td>0</td>\n",
       "      <td>0</td>\n",
       "      <td>1</td>\n",
       "      <td>2</td>\n",
       "      <td>0</td>\n",
       "      <td>3640000</td>\n",
       "    </tr>\n",
       "    <tr>\n",
       "      <th>31</th>\n",
       "      <td>7000</td>\n",
       "      <td>3</td>\n",
       "      <td>1</td>\n",
       "      <td>4</td>\n",
       "      <td>1</td>\n",
       "      <td>0</td>\n",
       "      <td>0</td>\n",
       "      <td>0</td>\n",
       "      <td>1</td>\n",
       "      <td>2</td>\n",
       "      <td>0</td>\n",
       "      <td>8400000</td>\n",
       "    </tr>\n",
       "    <tr>\n",
       "      <th>113</th>\n",
       "      <td>9620</td>\n",
       "      <td>3</td>\n",
       "      <td>1</td>\n",
       "      <td>1</td>\n",
       "      <td>1</td>\n",
       "      <td>0</td>\n",
       "      <td>1</td>\n",
       "      <td>0</td>\n",
       "      <td>0</td>\n",
       "      <td>2</td>\n",
       "      <td>1</td>\n",
       "      <td>6083000</td>\n",
       "    </tr>\n",
       "  </tbody>\n",
       "</table>\n",
       "</div>"
      ],
      "text/plain": [
       "     area  bedrooms  bathrooms  stories  mainroad  guestroom  basement  \\\n",
       "126  7160         3          1        1         1          0         1   \n",
       "363  3584         2          1        1         1          0         0   \n",
       "370  4280         2          1        1         1          0         0   \n",
       "31   7000         3          1        4         1          0         0   \n",
       "113  9620         3          1        1         1          0         1   \n",
       "\n",
       "     hotwaterheating  airconditioning  parking  prefarea    price  \n",
       "126                0                0        2         1  5880000  \n",
       "363                1                0        0         0  3710000  \n",
       "370                0                1        2         0  3640000  \n",
       "31                 0                1        2         0  8400000  \n",
       "113                0                0        2         1  6083000  "
      ]
     },
     "execution_count": 42,
     "metadata": {},
     "output_type": "execute_result"
    }
   ],
   "source": [
    "df_Newtrainb.head()"
   ]
  },
  {
   "cell_type": "code",
   "execution_count": 43,
   "id": "b4af8ac5-c8b4-441e-8f86-13903eac41e0",
   "metadata": {},
   "outputs": [
    {
     "data": {
      "text/plain": [
       "(381, 11)"
      ]
     },
     "execution_count": 43,
     "metadata": {},
     "output_type": "execute_result"
    }
   ],
   "source": [
    "SortTrainb = df_Newtrainb.sort_values(by=[\"price\"])\n",
    "\n",
    "y_Newtrainb = SortTrainb.pop('price')\n",
    "X_Newtrainb = SortTrainb\n",
    "X_Newtrainb.shape"
   ]
  },
  {
   "cell_type": "code",
   "execution_count": 44,
   "id": "9231a842-b4b0-42e7-94ab-e44d1e89ffc1",
   "metadata": {},
   "outputs": [],
   "source": [
    "SortTestb = df_Newtestb.sort_values(by=[\"price\"])\n",
    "\n",
    "y_Newtestb = SortTestb.pop('price')\n",
    "X_Newtestb = SortTestb\n",
    "#X_Newtestb.head()"
   ]
  },
  {
   "cell_type": "code",
   "execution_count": null,
   "id": "e1768742-127e-4cc3-a946-0754f703f0f2",
   "metadata": {},
   "outputs": [],
   "source": []
  },
  {
   "cell_type": "code",
   "execution_count": 45,
   "id": "98a74fc3-bc08-41d8-8c8b-06def9a4991d",
   "metadata": {},
   "outputs": [],
   "source": [
    "Yb = y_Newtrainb.values\n",
    "Yb[:5]\n",
    "mb = len(Yb)"
   ]
  },
  {
   "cell_type": "code",
   "execution_count": 46,
   "id": "5192e651-d5dc-4def-96a6-11e346f01c8c",
   "metadata": {},
   "outputs": [],
   "source": [
    "xb = X_Newtrainb.values\n",
    "X1b = np.hstack((x_0, xb))"
   ]
  },
  {
   "cell_type": "code",
   "execution_count": null,
   "id": "e68b359b-a0dd-49e8-8bc8-78e12c4efe17",
   "metadata": {},
   "outputs": [],
   "source": []
  },
  {
   "cell_type": "code",
   "execution_count": 47,
   "id": "505c1d5f-1492-4a3d-b776-8640a39be1da",
   "metadata": {},
   "outputs": [],
   "source": [
    "alphab = .000000001\n",
    "iterationsb = 75\n",
    "itxb = list(range(1,iterationsb+1))"
   ]
  },
  {
   "cell_type": "code",
   "execution_count": 48,
   "id": "c20f51c3-6fd8-4a0d-83c3-07cdad0df1cc",
   "metadata": {},
   "outputs": [
    {
     "data": {
      "text/plain": [
       "(164, 12)"
      ]
     },
     "execution_count": 48,
     "metadata": {},
     "output_type": "execute_result"
    }
   ],
   "source": [
    "YTb = y_Newtestb.values\n",
    "nb = len(YTb)\n",
    "xtb = X_Newtestb.values\n",
    "XTb = np.hstack((xt_0, xtb))\n",
    "thetasb = np.zeros(12)\n",
    "XTb.shape"
   ]
  },
  {
   "cell_type": "code",
   "execution_count": 49,
   "id": "44ea2309-422b-47c1-8299-16dfccae7c3a",
   "metadata": {},
   "outputs": [
    {
     "name": "stdout",
     "output_type": "stream",
     "text": [
      "Final value of thetas = [1.56201766e-01 7.75150683e+02 4.90354856e-01 2.22707936e-01\n",
      " 3.19059496e-01 1.39214949e-01 3.75744966e-02 6.83465245e-02\n",
      " 1.04937787e-02 6.86618148e-02 1.23753740e-01 4.53875803e-02]\n",
      "cost_history = [1.22171437e+13 1.15656415e+13 1.09539427e+13 1.03796155e+13\n",
      " 9.84037671e+12]\n"
     ]
    }
   ],
   "source": [
    "thetasb, cost_historyb, cost_historyEvalb = gradient_descent(X1b, Yb, thetasb, alphab, iterationsb, XTb, YTb)\n",
    "print('Final value of thetas =', thetasb)\n",
    "print('cost_history =', cost_historyb[:5])"
   ]
  },
  {
   "cell_type": "code",
   "execution_count": 50,
   "id": "0433dcb0-7f19-4255-b8e0-a7f71ce675c3",
   "metadata": {},
   "outputs": [
    {
     "data": {
      "text/plain": [
       "<matplotlib.legend.Legend at 0x7fa670e06b80>"
      ]
     },
     "execution_count": 50,
     "metadata": {},
     "output_type": "execute_result"
    },
    {
     "data": {
      "image/png": "[encoded data removed]",
      "text/plain": [
       "<Figure size 720x432 with 1 Axes>"
      ]
     },
     "metadata": {
      "needs_background": "light"
     },
     "output_type": "display_data"
    }
   ],
   "source": [
    "plt.scatter(numE, YTb, color='red', marker= '+', label= 'Training Data')\n",
    "plt.plot(numE,(XTb.dot(thetasb)), color='green', label='Linear Regression')\n",
    "plt.rcParams[\"figure.figsize\"] = (10,6)\n",
    "plt.grid()\n",
    "plt.xlabel('M')\n",
    "plt.ylabel('Y')\n",
    "plt.title('Linear Regression Fit Cumulative')\n",
    "plt.legend()"
   ]
  },
  {
   "cell_type": "code",
   "execution_count": 51,
   "id": "ea82da82-4d4e-4c6a-9756-9f4854ad1670",
   "metadata": {},
   "outputs": [
    {
     "data": {
      "text/plain": [
       "<matplotlib.legend.Legend at 0x7fa6410a2820>"
      ]
     },
     "execution_count": 51,
     "metadata": {},
     "output_type": "execute_result"
    },
    {
     "data": {
      "image/png": "[encoded data removed]",
      "text/plain": [
       "<Figure size 720x432 with 1 Axes>"
      ]
     },
     "metadata": {
      "needs_background": "light"
     },
     "output_type": "display_data"
    }
   ],
   "source": [
    "plt.plot(itxb, cost_historyb, color='red', label= 'Training Loss')\n",
    "plt.plot(itxb,cost_historyEvalb, color='green', label='Test Loss')\n",
    "plt.rcParams[\"figure.figsize\"] = (10,6)\n",
    "plt.grid()\n",
    "plt.xlabel('Iteration')\n",
    "plt.ylabel('Loss')\n",
    "plt.title('Losses')\n",
    "plt.legend()"
   ]
  },
  {
   "cell_type": "code",
   "execution_count": 52,
   "id": "e37a1078-a2b9-4400-a1e2-e734ea41c9dc",
   "metadata": {},
   "outputs": [],
   "source": [
    "#2 a."
   ]
  },
  {
   "cell_type": "code",
   "execution_count": 53,
   "id": "85f4b5ad-22db-4036-8393-0a82be8d561e",
   "metadata": {},
   "outputs": [],
   "source": [
    "num_vars = ['area', 'bedrooms', 'bathrooms', 'stories', 'parking', 'price']\n",
    "df_train21 = df_train[num_vars]\n",
    "df_test21 = df_test[num_vars]"
   ]
  },
  {
   "cell_type": "code",
   "execution_count": 54,
   "id": "4dbba6bc-2336-421a-88ad-9ba67ff1e875",
   "metadata": {},
   "outputs": [],
   "source": [
    "import warnings\n",
    "warnings.filterwarnings('ignore')\n",
    "\n",
    "from sklearn.preprocessing import MinMaxScaler, StandardScaler\n",
    "\n",
    "scaler = MinMaxScaler()\n",
    "df_train21[num_vars] = scaler.fit_transform(df_train21[num_vars])\n",
    "df_train21.head(20)\n",
    "df_test21[num_vars] = scaler.fit_transform(df_test21[num_vars])"
   ]
  },
  {
   "cell_type": "code",
   "execution_count": 55,
   "id": "783b9e73-4bc7-430b-a71f-3f4536017a52",
   "metadata": {},
   "outputs": [],
   "source": [
    "df_train2S = df_train[num_vars]\n",
    "df_test2S = df_test[num_vars]"
   ]
  },
  {
   "cell_type": "code",
   "execution_count": 56,
   "id": "74bfb961-9711-4e11-90c8-0cef00a19c30",
   "metadata": {},
   "outputs": [],
   "source": [
    "import warnings\n",
    "warnings.filterwarnings('ignore')\n",
    "\n",
    "from sklearn.preprocessing import MinMaxScaler, StandardScaler\n",
    "\n",
    "scaler = StandardScaler()\n",
    "df_train2S[num_vars] = scaler.fit_transform(df_train2S[num_vars])\n",
    "df_train2S.head(20)\n",
    "df_test2S[num_vars] = scaler.fit_transform(df_test2S[num_vars])"
   ]
  },
  {
   "cell_type": "code",
   "execution_count": 57,
   "id": "f41aacd3-80c1-4e59-8bd4-0108f26a50fd",
   "metadata": {},
   "outputs": [],
   "source": [
    "SortTrain21 = df_train21.sort_values(by=[\"price\"])\n",
    "y_train21 = SortTrain21.pop('price')\n",
    "X_train21 = SortTrain21\n",
    "\n",
    "SortTest21 = df_test21.sort_values(by=[\"price\"])\n",
    "y_test21 = SortTest21.pop('price')\n",
    "X_test21 = SortTest21\n"
   ]
  },
  {
   "cell_type": "code",
   "execution_count": 58,
   "id": "29f176c6-a80c-4808-99a6-fa3701cf86d0",
   "metadata": {},
   "outputs": [],
   "source": [
    "xt21 = X_train21.values\n",
    "YT21 = y_train21.values\n",
    "\n",
    "xe21 = X_test21.values\n",
    "YE21 = y_test21.values"
   ]
  },
  {
   "cell_type": "code",
   "execution_count": 59,
   "id": "bac90636-2c4c-41b3-a662-9eb4c777905e",
   "metadata": {},
   "outputs": [],
   "source": [
    "XT21 = np.hstack((x_0, xt21))\n",
    "XE21 = np.hstack((xt_0, xe21))"
   ]
  },
  {
   "cell_type": "code",
   "execution_count": 60,
   "id": "526c6a9e-ab91-4df6-9429-520d6f8bc597",
   "metadata": {},
   "outputs": [],
   "source": [
    "iterations2 = 500;\n",
    "alpha2 = 0.01;\n",
    "itx2 = list(range(1,iterations2+1))\n",
    "thetas21 = np.zeros(6)"
   ]
  },
  {
   "cell_type": "code",
   "execution_count": 61,
   "id": "cccb8d01-8431-4165-b127-4497e70f7043",
   "metadata": {},
   "outputs": [
    {
     "name": "stdout",
     "output_type": "stream",
     "text": [
      "Final value of thetas = [0.17884379 0.09680278 0.09746579 0.06766738 0.10060671 0.09383455]\n",
      "cost_history = [0.05419924 0.05302865 0.05188944 0.05078076 0.04970179]\n"
     ]
    }
   ],
   "source": [
    "thetas21, cost_history21, cost_historyEval21 = gradient_descent(XT21, YT21, thetas21, alpha2, iterations2, XE21, YE21)\n",
    "print('Final value of thetas =', thetas21)\n",
    "print('cost_history =', cost_history21[:5])"
   ]
  },
  {
   "cell_type": "code",
   "execution_count": 62,
   "id": "02c7da3d-0295-462c-8611-dbdda58b1e90",
   "metadata": {},
   "outputs": [
    {
     "data": {
      "text/plain": [
       "<matplotlib.legend.Legend at 0x7fa6200419d0>"
      ]
     },
     "execution_count": 62,
     "metadata": {},
     "output_type": "execute_result"
    },
    {
     "data": {
      "image/png": "[encoded data removed]",
      "text/plain": [
       "<Figure size 720x432 with 1 Axes>"
      ]
     },
     "metadata": {
      "needs_background": "light"
     },
     "output_type": "display_data"
    }
   ],
   "source": [
    "plt.scatter(numE, YE21, color='red', marker= '+', label= 'Training Data')\n",
    "plt.plot(numE,(XE21.dot(thetas21)), color='green', label='Linear Regression')\n",
    "plt.rcParams[\"figure.figsize\"] = (10,6)\n",
    "plt.grid()\n",
    "plt.xlabel('M')\n",
    "plt.ylabel('Y')\n",
    "plt.title('Linear Regression Fit Cumulative')\n",
    "plt.legend()"
   ]
  },
  {
   "cell_type": "code",
   "execution_count": 63,
   "id": "f1bc23fa-d505-45a5-8382-e699e2a51a78",
   "metadata": {},
   "outputs": [
    {
     "data": {
      "text/plain": [
       "<matplotlib.legend.Legend at 0x7fa670dc5700>"
      ]
     },
     "execution_count": 63,
     "metadata": {},
     "output_type": "execute_result"
    },
    {
     "data": {
      "image/png": "[encoded data removed]",
      "text/plain": [
       "<Figure size 720x432 with 1 Axes>"
      ]
     },
     "metadata": {
      "needs_background": "light"
     },
     "output_type": "display_data"
    }
   ],
   "source": [
    "plt.plot(itx2, cost_history21, color='red', label= 'Training Loss')\n",
    "plt.plot(itx2,cost_historyEval21, color='green', label='Test Loss')\n",
    "plt.rcParams[\"figure.figsize\"] = (10,6)\n",
    "plt.grid()\n",
    "plt.xlabel('Iteration')\n",
    "plt.ylabel('Loss')\n",
    "plt.title('Losses from normalization')\n",
    "plt.legend()"
   ]
  },
  {
   "cell_type": "code",
   "execution_count": 64,
   "id": "a6f0f47b-4a82-4c90-b12a-72cec3cb6420",
   "metadata": {},
   "outputs": [],
   "source": [
    "SortTrain2S = df_train2S.sort_values(by=[\"price\"])\n",
    "y_train2S = SortTrain2S.pop('price')\n",
    "X_train2S = SortTrain2S\n",
    "\n",
    "SortTest2S = df_test2S.sort_values(by=[\"price\"])\n",
    "y_test2S = SortTest2S.pop('price')\n",
    "X_test2S = SortTest2S"
   ]
  },
  {
   "cell_type": "code",
   "execution_count": 65,
   "id": "0c33d47a-0d04-4355-9978-54a040a040e1",
   "metadata": {},
   "outputs": [],
   "source": [
    "xt2S = X_train2S.values\n",
    "YT2S = y_train2S.values\n",
    "\n",
    "xe2S = X_test2S.values\n",
    "YE2S = y_test2S.values"
   ]
  },
  {
   "cell_type": "code",
   "execution_count": 66,
   "id": "306969de-95b4-4c0a-8c5e-102c8706eee9",
   "metadata": {},
   "outputs": [],
   "source": [
    "XT2S = np.hstack((x_0, xt2S))\n",
    "XE2S = np.hstack((xt_0, xe2S))\n",
    "thetas2S = np.zeros(6)"
   ]
  },
  {
   "cell_type": "code",
   "execution_count": 67,
   "id": "7f6adb70-6c8c-4d21-a2c8-b6ac85a18568",
   "metadata": {},
   "outputs": [
    {
     "name": "stdout",
     "output_type": "stream",
     "text": [
      "Final value of thetas = [9.70702084e-17 4.00229534e-01 7.74583809e-02 3.15508404e-01\n",
      " 2.25005614e-01 1.88758391e-01]\n",
      "cost_history = [0.48979774 0.47996935 0.47050087 0.46137888 0.45259046]\n"
     ]
    }
   ],
   "source": [
    "thetas2S, cost_history2S, cost_historyEval2S = gradient_descent(XT2S, YT2S, thetas2S, alpha2, iterations2, XE2S, YE2S)\n",
    "print('Final value of thetas =', thetas2S)\n",
    "print('cost_history =', cost_history2S[:5])"
   ]
  },
  {
   "cell_type": "code",
   "execution_count": 68,
   "id": "3aad6fb3-4fc1-413e-804f-d6c74bf45068",
   "metadata": {},
   "outputs": [
    {
     "data": {
      "text/plain": [
       "<matplotlib.legend.Legend at 0x7fa6306fbb20>"
      ]
     },
     "execution_count": 68,
     "metadata": {},
     "output_type": "execute_result"
    },
    {
     "data": {
      "image/png": "[encoded data removed]",
      "text/plain": [
       "<Figure size 720x432 with 1 Axes>"
      ]
     },
     "metadata": {
      "needs_background": "light"
     },
     "output_type": "display_data"
    }
   ],
   "source": [
    "plt.scatter(numE, YE2S, color='red', marker= '+', label= 'Training Data')\n",
    "plt.plot(numE,(XE2S.dot(thetas21)), color='green', label='Linear Regression')\n",
    "plt.rcParams[\"figure.figsize\"] = (10,6)\n",
    "plt.grid()\n",
    "plt.xlabel('M')\n",
    "plt.ylabel('Y')\n",
    "plt.title('Linear Regression Fit Cumulative')\n",
    "plt.legend()"
   ]
  },
  {
   "cell_type": "code",
   "execution_count": 69,
   "id": "e0d8bb54-6bbf-4c4f-9797-e4166b5ee12b",
   "metadata": {},
   "outputs": [
    {
     "data": {
      "text/plain": [
       "<matplotlib.legend.Legend at 0x7fa661e19850>"
      ]
     },
     "execution_count": 69,
     "metadata": {},
     "output_type": "execute_result"
    },
    {
     "data": {
      "image/png": "[encoded data removed]",
      "text/plain": [
       "<Figure size 720x432 with 1 Axes>"
      ]
     },
     "metadata": {
      "needs_background": "light"
     },
     "output_type": "display_data"
    }
   ],
   "source": [
    "plt.plot(itx2, cost_history2S, color='red', label= 'Training Loss')\n",
    "plt.plot(itx2,cost_historyEval2S, color='green', label='Test Loss')\n",
    "plt.rcParams[\"figure.figsize\"] = (10,6)\n",
    "plt.grid()\n",
    "plt.xlabel('Iteration')\n",
    "plt.ylabel('Loss')\n",
    "plt.title('Losses from standardization')\n",
    "plt.legend()"
   ]
  },
  {
   "cell_type": "code",
   "execution_count": 70,
   "id": "a7c73bab-265e-41bc-84e1-5e232f690c4e",
   "metadata": {},
   "outputs": [],
   "source": [
    "# 2 Part b."
   ]
  },
  {
   "cell_type": "code",
   "execution_count": 71,
   "id": "d3a85a1a-7130-4a5b-b941-7d38b9b5a386",
   "metadata": {},
   "outputs": [],
   "source": [
    "varsb = ['area', 'bedrooms', 'bathrooms', 'stories', 'mainroad', 'guestroom', 'basement', 'hotwaterheating', 'airconditioning', 'parking', 'prefarea', 'price']\n",
    "df_train22 = df_train[varsb]\n",
    "df_test22 = df_test[varsb]\n",
    "\n",
    "df_train22S = df_train[varsb]\n",
    "df_test22S = df_test[varsb]\n"
   ]
  },
  {
   "cell_type": "code",
   "execution_count": 72,
   "id": "1f1ef9d6-af3f-4008-8aa2-4111bf631e47",
   "metadata": {},
   "outputs": [],
   "source": [
    "import warnings\n",
    "warnings.filterwarnings('ignore')\n",
    "\n",
    "from sklearn.preprocessing import MinMaxScaler, StandardScaler\n",
    "\n",
    "scaler = MinMaxScaler()\n",
    "df_train22[varsb] = scaler.fit_transform(df_train22[varsb])\n",
    "df_train22.head(20)\n",
    "df_test22[varsb] = scaler.fit_transform(df_test22[varsb])"
   ]
  },
  {
   "cell_type": "code",
   "execution_count": 73,
   "id": "1e3a1de3-1db2-4535-a01d-00fc6f9cc920",
   "metadata": {},
   "outputs": [],
   "source": [
    "import warnings\n",
    "warnings.filterwarnings('ignore')\n",
    "\n",
    "from sklearn.preprocessing import MinMaxScaler, StandardScaler\n",
    "\n",
    "scaler = StandardScaler()\n",
    "df_train22S[varsb] = scaler.fit_transform(df_train22S[varsb])\n",
    "df_train22S.head(20)\n",
    "df_test22S[varsb] = scaler.fit_transform(df_test22S[varsb])"
   ]
  },
  {
   "cell_type": "code",
   "execution_count": 74,
   "id": "877eeea3-3610-46f6-91da-27ae9d6e1cea",
   "metadata": {},
   "outputs": [],
   "source": [
    "y_train22 = df_train22.pop('price')\n",
    "X_train22 = df_train22\n",
    "y_test22 = df_test22.pop('price')\n",
    "X_test22 = df_test22\n",
    "\n",
    "y_train22S = df_train22S.pop('price')\n",
    "X_train22S = df_train22S\n",
    "y_test22S = df_test22S.pop('price')\n",
    "X_test22S = df_test22S"
   ]
  },
  {
   "cell_type": "code",
   "execution_count": 75,
   "id": "f7fe31d0-414f-46a1-85a1-f636eab95b07",
   "metadata": {},
   "outputs": [],
   "source": [
    "xt22 = X_train22.values\n",
    "X2b = np.hstack((x_0, xt22))\n",
    "YT22 = y_train22.values\n",
    "\n",
    "xe22 = X_test22.values\n",
    "XE2b = np.hstack((xt_0, xe22))\n",
    "YE22 = y_test22.values"
   ]
  },
  {
   "cell_type": "code",
   "execution_count": 76,
   "id": "d4b3c61c-fc7d-4141-94cf-ce487c3770cc",
   "metadata": {},
   "outputs": [],
   "source": [
    "xt22S = X_train22S.values\n",
    "X2bS = np.hstack((x_0, xt22S))\n",
    "YT22S = y_train22S.values\n",
    "\n",
    "xe22S = X_test22S.values\n",
    "XEbS = np.hstack((xt_0, xe22S))\n",
    "YE22S = y_test22S.values"
   ]
  },
  {
   "cell_type": "code",
   "execution_count": 77,
   "id": "cd1a879e-1301-4e79-8803-ff7c32d13f2e",
   "metadata": {},
   "outputs": [],
   "source": [
    "thetas2b = np.zeros(12) \n",
    "thetas2bS = np.zeros(12)"
   ]
  },
  {
   "cell_type": "code",
   "execution_count": 78,
   "id": "91b30143-16cc-4b84-a9bc-154456bae6b1",
   "metadata": {},
   "outputs": [],
   "source": [
    "iterations2b = 1000;\n",
    "alpha2b = 0.001;\n",
    "it2b = list(range(1,iterations2b+1))"
   ]
  },
  {
   "cell_type": "code",
   "execution_count": 79,
   "id": "1c223c0c-f94b-4de8-840a-3abc57d5429f",
   "metadata": {},
   "outputs": [
    {
     "name": "stdout",
     "output_type": "stream",
     "text": [
      "Final value of thetas = [0.09913434 0.0344426  0.04616274 0.02063477 0.04080084 0.09182493\n",
      " 0.02794434 0.04284922 0.00848339 0.05432657 0.0352624  0.03432274]\n",
      "cost_history = [0.0551676  0.05493431 0.0547022  0.05447125 0.05424147]\n"
     ]
    }
   ],
   "source": [
    "thetas2b, cost_history2b, cost_historyEval2b = gradient_descent(X2b, YT22, thetas2b, alpha2b, iterations2b, XE2b, YE22)\n",
    "print('Final value of thetas =', thetas2b)\n",
    "print('cost_history =', cost_history2b[:5])"
   ]
  },
  {
   "cell_type": "code",
   "execution_count": 80,
   "id": "2daed5a1-f233-4c59-bb0e-62a1ce66e1bb",
   "metadata": {},
   "outputs": [
    {
     "data": {
      "text/plain": [
       "<matplotlib.legend.Legend at 0x7fa620019820>"
      ]
     },
     "execution_count": 80,
     "metadata": {},
     "output_type": "execute_result"
    },
    {
     "data": {
      "image/png": "[encoded data removed]",
      "text/plain": [
       "<Figure size 720x432 with 1 Axes>"
      ]
     },
     "metadata": {
      "needs_background": "light"
     },
     "output_type": "display_data"
    }
   ],
   "source": [
    "plt.plot(it2b, cost_history2b, color='red', label= 'Training Loss')\n",
    "plt.plot(it2b,cost_historyEval2b, color='green', label='Test Loss')\n",
    "plt.rcParams[\"figure.figsize\"] = (10,6)\n",
    "plt.grid()\n",
    "plt.xlabel('Iteration')\n",
    "plt.ylabel('Loss')\n",
    "plt.title('Losses from normalization')\n",
    "plt.legend()"
   ]
  },
  {
   "cell_type": "code",
   "execution_count": 81,
   "id": "38112c25-676a-458b-962b-ea7f16f06037",
   "metadata": {},
   "outputs": [],
   "source": [
    "iterations2bs = 1000;\n",
    "alpha2bs = 0.001;\n",
    "it2bs = list(range(1,iterations2bs+1))"
   ]
  },
  {
   "cell_type": "code",
   "execution_count": 82,
   "id": "4f3fe346-1a9c-42b7-8c6c-4d2d70a6563c",
   "metadata": {},
   "outputs": [
    {
     "name": "stdout",
     "output_type": "stream",
     "text": [
      "Final value of thetas = [2.36658170e-17 2.37836198e-01 1.13547298e-01 2.28306606e-01\n",
      " 1.57145878e-01 1.04086934e-01 9.12041311e-02 9.18684746e-02\n",
      " 5.20716885e-02 1.73275092e-01 1.46821604e-01 1.10614696e-01]\n",
      "cost_history = [0.49847708 0.49696114 0.49545214 0.49395004 0.49245483]\n"
     ]
    }
   ],
   "source": [
    "thetas2bs, cost_history2bs, cost_historyEval2bs = gradient_descent(X2bS, YT22S, thetas2bS, alpha2bs, iterations2bs, XEbS, YE22S)\n",
    "print('Final value of thetas =', thetas2bs)\n",
    "print('cost_history =', cost_history2bs[:5])"
   ]
  },
  {
   "cell_type": "code",
   "execution_count": 83,
   "id": "6bf87a09-23d4-48ab-8768-a0309e3d0dac",
   "metadata": {},
   "outputs": [
    {
     "data": {
      "text/plain": [
       "<matplotlib.legend.Legend at 0x7fa650660490>"
      ]
     },
     "execution_count": 83,
     "metadata": {},
     "output_type": "execute_result"
    },
    {
     "data": {
      "image/png": "[encoded data removed]",
      "text/plain": [
       "<Figure size 720x432 with 1 Axes>"
      ]
     },
     "metadata": {
      "needs_background": "light"
     },
     "output_type": "display_data"
    }
   ],
   "source": [
    "plt.plot(it2bs, cost_history2bs, color='red', label= 'Training Loss')\n",
    "plt.plot(it2bs,cost_historyEval2bs, color='green', label='Test Loss')\n",
    "plt.rcParams[\"figure.figsize\"] = (10,6)\n",
    "plt.grid()\n",
    "plt.xlabel('Iteration')\n",
    "plt.ylabel('Loss')\n",
    "plt.title('Losses from normalization')\n",
    "plt.legend()"
   ]
  },
  {
   "cell_type": "code",
   "execution_count": 84,
   "id": "5d3431eb-0c25-4e50-a89b-278312b2e859",
   "metadata": {},
   "outputs": [],
   "source": [
    "# 3 a."
   ]
  },
  {
   "cell_type": "code",
   "execution_count": 85,
   "id": "c34e2b5f-15db-4583-a1ed-98a7d37a1ee3",
   "metadata": {},
   "outputs": [],
   "source": [
    "thetas3a = np.zeros(6) \n",
    "thetas3aS = np.zeros(6)\n",
    "alpha3a = .001\n",
    "iterations3 = 1000\n",
    "it3 = list(range(1,iterations3+1))"
   ]
  },
  {
   "cell_type": "code",
   "execution_count": 86,
   "id": "9e07cb35-285a-4259-8f30-cb91fa7d481f",
   "metadata": {},
   "outputs": [],
   "source": [
    "def compute_costPen (X, Y, theta):\n",
    "    predictions = X.dot(theta)\n",
    "\n",
    "    errors = np.subtract(predictions, Y)\n",
    "    sqrErrors = np.square(errors)\n",
    "    \n",
    "    \n",
    "\n",
    "    pen = np.square(theta[1:])\n",
    "    pen = np.insert(reg, 0, theta[:1], axis =0)\n",
    "    J = 1 / (2 * m) * (np.sum(sqrErrors) + np.sum(pen))\n",
    "    return J"
   ]
  },
  {
   "cell_type": "code",
   "execution_count": 87,
   "id": "a6685441-d672-482e-897d-5fd79f67f43d",
   "metadata": {},
   "outputs": [],
   "source": [
    "def gradient_descentPen(X, Y, theta, alpha, iterations, X1, Y1):\n",
    "\n",
    " cost_history = np.zeros(iterations)\n",
    " cost_historyEval = np.zeros(iterations)\n",
    " for i in range(iterations):\n",
    "    predictions = X.dot(theta)\n",
    "    errors = np.subtract(predictions, Y)\n",
    "    sum_delta = (alpha / m) * X.transpose().dot(errors);\n",
    "    theta = theta - sum_delta;\n",
    "    cost_history[i] = compute_costPen(X, Y, theta)\n",
    "    cost_historyEval[i] = compute_cost(X1, Y1, theta)\n",
    " return theta, cost_history, cost_historyEval"
   ]
  },
  {
   "cell_type": "code",
   "execution_count": 88,
   "id": "3b4311f7-8ad3-4797-adb8-2e5ca5d5c7f4",
   "metadata": {},
   "outputs": [
    {
     "name": "stdout",
     "output_type": "stream",
     "text": [
      "Final value of thetas = [3.65062311e-17 2.86591117e-01 1.32006917e-01 2.44495130e-01\n",
      " 1.76713390e-01 1.71909056e-01]\n",
      "cost_history = [0.4989712  0.49794621 0.496925   0.49590757 0.4948939 ]\n"
     ]
    }
   ],
   "source": [
    "thetas3a, cost_history3a, cost_historyEval3a = gradient_descent(XT2S, YT2S, thetas3a, alpha3a, iterations3, XE2S, YE2S)\n",
    "print('Final value of thetas =', thetas3a)\n",
    "print('cost_history =', cost_history3a[:5])"
   ]
  },
  {
   "cell_type": "code",
   "execution_count": 89,
   "id": "236c6a34-f010-449a-9f28-2ab4ff36ed59",
   "metadata": {},
   "outputs": [
    {
     "data": {
      "text/plain": [
       "<matplotlib.legend.Legend at 0x7fa661e9ed90>"
      ]
     },
     "execution_count": 89,
     "metadata": {},
     "output_type": "execute_result"
    },
    {
     "data": {
      "image/png": "[encoded data removed]",
      "text/plain": [
       "<Figure size 720x432 with 1 Axes>"
      ]
     },
     "metadata": {
      "needs_background": "light"
     },
     "output_type": "display_data"
    }
   ],
   "source": [
    "plt.plot(it3, cost_history3a, color='red', label= 'Training Loss')\n",
    "plt.plot(it3,cost_historyEval3a, color='green', label='Test Loss')\n",
    "plt.rcParams[\"figure.figsize\"] = (10,6)\n",
    "plt.grid()\n",
    "plt.xlabel('Iteration')\n",
    "plt.ylabel('Loss')\n",
    "plt.title('Losses from Standardisaton')\n",
    "plt.legend()"
   ]
  },
  {
   "cell_type": "code",
   "execution_count": 90,
   "id": "c0fe23f1-5f23-4a6a-944f-73294bda8be6",
   "metadata": {},
   "outputs": [
    {
     "name": "stdout",
     "output_type": "stream",
     "text": [
      "Final value of thetas = [0.15328222 0.0492159  0.06774757 0.02590826 0.05548712 0.04899511]\n",
      "cost_history = [0.05528105 0.05516036 0.05503999 0.05491995 0.05480023]\n"
     ]
    }
   ],
   "source": [
    "thetas3aS, cost_history3as, cost_historyEval3as = gradient_descent(XT21, YT21, thetas3aS, alpha3a, iterations3, XE21, YE21)\n",
    "print('Final value of thetas =', thetas3aS)\n",
    "print('cost_history =', cost_history3as[:5])"
   ]
  },
  {
   "cell_type": "code",
   "execution_count": 91,
   "id": "669c9227-bf46-4588-a77c-c9dbb1ea127d",
   "metadata": {},
   "outputs": [
    {
     "data": {
      "text/plain": [
       "<matplotlib.legend.Legend at 0x7fa6506c1e80>"
      ]
     },
     "execution_count": 91,
     "metadata": {},
     "output_type": "execute_result"
    },
    {
     "data": {
      "image/png": "[encoded data removed]",
      "text/plain": [
       "<Figure size 720x432 with 1 Axes>"
      ]
     },
     "metadata": {
      "needs_background": "light"
     },
     "output_type": "display_data"
    }
   ],
   "source": [
    "plt.plot(it3, cost_history3as, color='red', label= 'Training Loss')\n",
    "plt.plot(it3,cost_historyEval3as, color='green', label='Test Loss')\n",
    "plt.rcParams[\"figure.figsize\"] = (10,6)\n",
    "plt.grid()\n",
    "plt.xlabel('Iteration')\n",
    "plt.ylabel('Loss')\n",
    "plt.title('Losses from normalization')\n",
    "plt.legend()"
   ]
  },
  {
   "cell_type": "code",
   "execution_count": 92,
   "id": "db9367dd-9d85-4a76-89c4-afa608948f3d",
   "metadata": {},
   "outputs": [],
   "source": [
    "# 3 b."
   ]
  },
  {
   "cell_type": "code",
   "execution_count": 93,
   "id": "b3f8c874-2d08-4162-89c3-e30760c34fc6",
   "metadata": {},
   "outputs": [],
   "source": [
    "thetas3b = np.zeros(12) \n",
    "thetas3bS = np.zeros(12)\n",
    "alpha3b = .001\n",
    "iterations3b = 1000\n",
    "it3b = list(range(1,iterations3b+1))"
   ]
  },
  {
   "cell_type": "code",
   "execution_count": 94,
   "id": "eb29bf21-c49f-4d93-8436-e5c405b08070",
   "metadata": {},
   "outputs": [
    {
     "name": "stdout",
     "output_type": "stream",
     "text": [
      "Final value of thetas = [0.09913434 0.0344426  0.04616274 0.02063477 0.04080084 0.09182493\n",
      " 0.02794434 0.04284922 0.00848339 0.05432657 0.0352624  0.03432274]\n",
      "cost_history = [0.0551676  0.05493431 0.0547022  0.05447125 0.05424147]\n"
     ]
    }
   ],
   "source": [
    "thetas3b, cost_history3b, cost_historyEval3b = gradient_descent(X2b, YT22, thetas3b, alpha3b, iterations3b, XE2b, YE22)\n",
    "print('Final value of thetas =', thetas3b)\n",
    "print('cost_history =', cost_history3b[:5])"
   ]
  },
  {
   "cell_type": "code",
   "execution_count": 95,
   "id": "915bc9da-f723-487c-8a0d-bb76fa8a4d6a",
   "metadata": {},
   "outputs": [
    {
     "data": {
      "text/plain": [
       "<matplotlib.legend.Legend at 0x7fa6807c2f70>"
      ]
     },
     "execution_count": 95,
     "metadata": {},
     "output_type": "execute_result"
    },
    {
     "data": {
      "image/png": "[encoded data removed]",
      "text/plain": [
       "<Figure size 720x432 with 1 Axes>"
      ]
     },
     "metadata": {
      "needs_background": "light"
     },
     "output_type": "display_data"
    }
   ],
   "source": [
    "plt.plot(it3b, cost_history3b, color='red', label= 'Training Loss')\n",
    "plt.plot(it3b,cost_historyEval3b, color='green', label='Test Loss')\n",
    "plt.rcParams[\"figure.figsize\"] = (10,6)\n",
    "plt.grid()\n",
    "plt.xlabel('Iteration')\n",
    "plt.ylabel('Loss')\n",
    "plt.title('Losses from normalization')\n",
    "plt.legend()"
   ]
  },
  {
   "cell_type": "code",
   "execution_count": 96,
   "id": "3b17b9cb-ddda-4994-b271-e650907ca187",
   "metadata": {},
   "outputs": [
    {
     "name": "stdout",
     "output_type": "stream",
     "text": [
      "Final value of thetas = [2.36658170e-17 2.37836198e-01 1.13547298e-01 2.28306606e-01\n",
      " 1.57145878e-01 1.04086934e-01 9.12041311e-02 9.18684746e-02\n",
      " 5.20716885e-02 1.73275092e-01 1.46821604e-01 1.10614696e-01]\n",
      "cost_history = [0.49847708 0.49696114 0.49545214 0.49395004 0.49245483]\n"
     ]
    }
   ],
   "source": [
    "thetas3bS, cost_history3bs, cost_historyEval3bs = gradient_descent(X2bS, YT22S, thetas3bS, alpha3b, iterations3b, XEbS, YE22S)\n",
    "print('Final value of thetas =', thetas3bS)\n",
    "print('cost_history =', cost_history3bs[:5])"
   ]
  },
  {
   "cell_type": "code",
   "execution_count": 97,
   "id": "d676f868-db6b-4c5b-bc55-7a02452ed1dc",
   "metadata": {},
   "outputs": [
    {
     "data": {
      "text/plain": [
       "<matplotlib.legend.Legend at 0x7fa6507c8af0>"
      ]
     },
     "execution_count": 97,
     "metadata": {},
     "output_type": "execute_result"
    },
    {
     "data": {
      "image/png": "[encoded data removed]",
      "text/plain": [
       "<Figure size 720x432 with 1 Axes>"
      ]
     },
     "metadata": {
      "needs_background": "light"
     },
     "output_type": "display_data"
    }
   ],
   "source": [
    "plt.plot(it3b, cost_history3bs, color='red', label= 'Training Loss')\n",
    "plt.plot(it3b,cost_historyEval3bs, color='green', label='Test Loss')\n",
    "plt.rcParams[\"figure.figsize\"] = (10,6)\n",
    "plt.grid()\n",
    "plt.xlabel('Iteration')\n",
    "plt.ylabel('Loss')\n",
    "plt.title('Losses from normalization')\n",
    "plt.legend()"
   ]
  },
  {
   "cell_type": "code",
   "execution_count": null,
   "id": "1b848003-d490-4a44-a639-101fb5b1f34f",
   "metadata": {},
   "outputs": [],
   "source": []
  },
  {
   "cell_type": "code",
   "execution_count": null,
   "id": "0c374256-f707-4ed9-ab4b-fc6b64ae34f8",
   "metadata": {},
   "outputs": [],
   "source": []
  },
  {
   "cell_type": "code",
   "execution_count": null,
   "id": "1e76ba9b-c7af-43ef-bb16-b41894a3b1ad",
   "metadata": {},
   "outputs": [],
   "source": []
  }
 ],
 "metadata": {
  "kernelspec": {
   "display_name": "Python 3",
   "language": "python",
   "name": "python3"
  },
  "language_info": {
   "codemirror_mode": {
    "name": "ipython",
    "version": 3
   },
   "file_extension": ".py",
   "mimetype": "text/x-python",
   "name": "python",
   "nbconvert_exporter": "python",
   "pygments_lexer": "ipython3",
   "version": "3.8.8"
  }
 },
 "nbformat": 4,
 "nbformat_minor": 5
}
