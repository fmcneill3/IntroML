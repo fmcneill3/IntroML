{
 "cells": [
  {
   "cell_type": "code",
   "execution_count": 1,
   "id": "ecc48b63-872c-4db8-9254-e0db196995c8",
   "metadata": {},
   "outputs": [],
   "source": [
    "import numpy as np\n",
    "import pandas as pd\n",
    "import matplotlib.pyplot as plt\n",
    "import seaborn as sns\n"
   ]
  },
  {
   "cell_type": "code",
   "execution_count": 2,
   "id": "ffa3a996-97e5-45cb-8992-ce9da3ea7dbc",
   "metadata": {},
   "outputs": [
    {
     "data": {
      "text/plain": [
       "<bound method NDFrame.head of      Pregnancies  Glucose  BloodPressure  SkinThickness  Insulin   BMI  \\\n",
       "0              6      148             72             35        0  33.6   \n",
       "1              1       85             66             29        0  26.6   \n",
       "2              8      183             64              0        0  23.3   \n",
       "3              1       89             66             23       94  28.1   \n",
       "4              0      137             40             35      168  43.1   \n",
       "..           ...      ...            ...            ...      ...   ...   \n",
       "763           10      101             76             48      180  32.9   \n",
       "764            2      122             70             27        0  36.8   \n",
       "765            5      121             72             23      112  26.2   \n",
       "766            1      126             60              0        0  30.1   \n",
       "767            1       93             70             31        0  30.4   \n",
       "\n",
       "     DiabetesPedigreeFunction  Age  Outcome  \n",
       "0                       0.627   50        1  \n",
       "1                       0.351   31        0  \n",
       "2                       0.672   32        1  \n",
       "3                       0.167   21        0  \n",
       "4                       2.288   33        1  \n",
       "..                        ...  ...      ...  \n",
       "763                     0.171   63        0  \n",
       "764                     0.340   27        0  \n",
       "765                     0.245   30        0  \n",
       "766                     0.349   47        1  \n",
       "767                     0.315   23        0  \n",
       "\n",
       "[768 rows x 9 columns]>"
      ]
     },
     "execution_count": 2,
     "metadata": {},
     "output_type": "execute_result"
    }
   ],
   "source": [
    "data = pd.read_csv('diabetes.csv')\n",
    "data.head\n",
    "\n"
   ]
  },
  {
   "cell_type": "code",
   "execution_count": 3,
   "id": "c6f15363-8e07-4817-bcb8-a2b769237532",
   "metadata": {},
   "outputs": [
    {
     "data": {
      "text/plain": [
       "array([[6.000e+00, 1.480e+02, 7.200e+01, 3.500e+01, 0.000e+00, 3.360e+01,\n",
       "        6.270e-01, 5.000e+01],\n",
       "       [1.000e+00, 8.500e+01, 6.600e+01, 2.900e+01, 0.000e+00, 2.660e+01,\n",
       "        3.510e-01, 3.100e+01],\n",
       "       [8.000e+00, 1.830e+02, 6.400e+01, 0.000e+00, 0.000e+00, 2.330e+01,\n",
       "        6.720e-01, 3.200e+01],\n",
       "       [1.000e+00, 8.900e+01, 6.600e+01, 2.300e+01, 9.400e+01, 2.810e+01,\n",
       "        1.670e-01, 2.100e+01],\n",
       "       [0.000e+00, 1.370e+02, 4.000e+01, 3.500e+01, 1.680e+02, 4.310e+01,\n",
       "        2.288e+00, 3.300e+01],\n",
       "       [5.000e+00, 1.160e+02, 7.400e+01, 0.000e+00, 0.000e+00, 2.560e+01,\n",
       "        2.010e-01, 3.000e+01],\n",
       "       [3.000e+00, 7.800e+01, 5.000e+01, 3.200e+01, 8.800e+01, 3.100e+01,\n",
       "        2.480e-01, 2.600e+01],\n",
       "       [1.000e+01, 1.150e+02, 0.000e+00, 0.000e+00, 0.000e+00, 3.530e+01,\n",
       "        1.340e-01, 2.900e+01],\n",
       "       [2.000e+00, 1.970e+02, 7.000e+01, 4.500e+01, 5.430e+02, 3.050e+01,\n",
       "        1.580e-01, 5.300e+01],\n",
       "       [8.000e+00, 1.250e+02, 9.600e+01, 0.000e+00, 0.000e+00, 0.000e+00,\n",
       "        2.320e-01, 5.400e+01]])"
      ]
     },
     "execution_count": 3,
     "metadata": {},
     "output_type": "execute_result"
    }
   ],
   "source": [
    "X = data.iloc[:, [0,1,2,3,4,5,6,7]].values\n",
    "Y = data.iloc[:, 8].values\n",
    "X[0:10]"
   ]
  },
  {
   "cell_type": "code",
   "execution_count": 4,
   "id": "7922bb1f-f857-44db-b88b-097a752962ba",
   "metadata": {},
   "outputs": [],
   "source": [
    "from sklearn.model_selection import train_test_split\n",
    "Xtrain, Xtest, Ytrain, Ytest = train_test_split(X, Y, test_size = .20, random_state = 42)\n"
   ]
  },
  {
   "cell_type": "code",
   "execution_count": 5,
   "id": "e1768742-127e-4cc3-a946-0754f703f0f2",
   "metadata": {},
   "outputs": [],
   "source": [
    "# P 1."
   ]
  },
  {
   "cell_type": "code",
   "execution_count": 6,
   "id": "e68b359b-a0dd-49e8-8bc8-78e12c4efe17",
   "metadata": {},
   "outputs": [],
   "source": [
    "from sklearn.preprocessing import StandardScaler\n",
    "sc_X = StandardScaler()\n",
    "Xtrain = sc_X.fit_transform(Xtrain)\n",
    "Xtest = sc_X.transform(Xtest)"
   ]
  },
  {
   "cell_type": "code",
   "execution_count": 7,
   "id": "1b848003-d490-4a44-a639-101fb5b1f34f",
   "metadata": {},
   "outputs": [
    {
     "data": {
      "text/plain": [
       "LogisticRegression(random_state=42)"
      ]
     },
     "execution_count": 7,
     "metadata": {},
     "output_type": "execute_result"
    }
   ],
   "source": [
    "from sklearn.linear_model import LogisticRegression\n",
    "classifier = LogisticRegression(random_state=42)\n",
    "classifier.fit(Xtrain, Ytrain)"
   ]
  },
  {
   "cell_type": "code",
   "execution_count": 8,
   "id": "0c374256-f707-4ed9-ab4b-fc6b64ae34f8",
   "metadata": {},
   "outputs": [
    {
     "data": {
      "text/plain": [
       "array([0, 0, 0, 0, 0, 0, 0, 1, 1])"
      ]
     },
     "execution_count": 8,
     "metadata": {},
     "output_type": "execute_result"
    }
   ],
   "source": [
    "Ypred = classifier.predict(Xtest)\n",
    "Ypred[0:9]"
   ]
  },
  {
   "cell_type": "code",
   "execution_count": 9,
   "id": "1e76ba9b-c7af-43ef-bb16-b41894a3b1ad",
   "metadata": {},
   "outputs": [
    {
     "data": {
      "text/plain": [
       "array([[79, 20],\n",
       "       [18, 37]])"
      ]
     },
     "execution_count": 9,
     "metadata": {},
     "output_type": "execute_result"
    }
   ],
   "source": [
    "from sklearn.metrics import confusion_matrix\n",
    "cnf_matrix = confusion_matrix(Ytest, Ypred)\n",
    "cnf_matrix"
   ]
  },
  {
   "cell_type": "code",
   "execution_count": 10,
   "id": "f08d7082-05b0-4106-973f-caa23a17b565",
   "metadata": {},
   "outputs": [
    {
     "name": "stdout",
     "output_type": "stream",
     "text": [
      "Accuracy:  0.7532467532467533\n",
      "Precision: 0.6491228070175439\n",
      "Recall:    0.6727272727272727\n"
     ]
    }
   ],
   "source": [
    "from sklearn import metrics\n",
    "print(\"Accuracy: \",metrics.accuracy_score(Ytest, Ypred))\n",
    "print(\"Precision:\",metrics.precision_score(Ytest, Ypred))\n",
    "print(\"Recall:   \",metrics.recall_score(Ytest, Ypred))"
   ]
  },
  {
   "cell_type": "code",
   "execution_count": 11,
   "id": "0bc022d6-ccab-412a-a7de-8d19d06a3f7e",
   "metadata": {},
   "outputs": [
    {
     "data": {
      "text/plain": [
       "Text(0.5, 257.44, 'Predicted label')"
      ]
     },
     "execution_count": 11,
     "metadata": {},
     "output_type": "execute_result"
    },
    {
     "data": {
      "image/png": "[encoded data removed]",
      "text/plain": [
       "<Figure size 432x288 with 2 Axes>"
      ]
     },
     "metadata": {
      "needs_background": "light"
     },
     "output_type": "display_data"
    }
   ],
   "source": [
    "import seaborn as sns\n",
    "class_names=[0,1] # name of classes\n",
    "fig, ax = plt.subplots()\n",
    "tick_marks = np.arange(len(class_names))\n",
    "plt.xticks(tick_marks, class_names)\n",
    "plt.yticks(tick_marks, class_names)\n",
    "# create heatmap\n",
    "sns.heatmap(pd.DataFrame(cnf_matrix), annot=True, cmap=\"YlGnBu\" ,fmt='g')\n",
    "ax.xaxis.set_label_position(\"top\")\n",
    "plt.tight_layout()\n",
    "plt.title('Confusion matrix', y=1.1)\n",
    "plt.ylabel('Actual label')\n",
    "plt.xlabel('Predicted label')"
   ]
  },
  {
   "cell_type": "code",
   "execution_count": 12,
   "id": "6fc221fc-1bc6-485c-b4b2-79b729577a25",
   "metadata": {},
   "outputs": [],
   "source": [
    "# P 2."
   ]
  },
  {
   "cell_type": "code",
   "execution_count": 13,
   "id": "83790d3a-ae7a-4376-a00c-903aa8dbca87",
   "metadata": {},
   "outputs": [
    {
     "data": {
      "text/plain": [
       "GaussianNB()"
      ]
     },
     "execution_count": 13,
     "metadata": {},
     "output_type": "execute_result"
    }
   ],
   "source": [
    "from sklearn.naive_bayes import GaussianNB\n",
    "classifier = GaussianNB()\n",
    "classifier.fit(Xtrain, Ytrain)\n"
   ]
  },
  {
   "cell_type": "code",
   "execution_count": 14,
   "id": "d5e45268-30bd-4a50-a075-7e036372fa05",
   "metadata": {},
   "outputs": [
    {
     "data": {
      "text/plain": [
       "array([0, 0, 0, 0, 1, 1, 0, 1, 0, 1, 0, 1, 1, 0, 0, 0, 0, 0, 1, 0, 0, 0,\n",
       "       1, 0, 1, 1, 0, 0, 0, 0, 1, 1, 1, 1, 1, 1, 1, 0, 1, 0, 0, 0, 0, 1,\n",
       "       0, 1, 1, 0, 0, 1, 0, 1, 1, 0, 0, 0, 1, 0, 0, 1, 1, 0, 1, 1, 0, 1,\n",
       "       0, 1, 0, 1, 1, 0, 0, 0, 0, 1, 0, 0, 0, 0, 1, 0, 0, 0, 0, 1, 1, 0,\n",
       "       0, 0, 0, 0, 0, 0, 0, 0, 0, 0, 1, 0, 1, 0, 1, 0, 1, 0, 0, 1, 0, 1,\n",
       "       0, 0, 0, 1, 0, 0, 1, 0, 0, 1, 0, 0, 0, 0, 0, 1, 0, 1, 1, 1, 1, 1,\n",
       "       0, 1, 1, 0, 0, 1, 1, 0, 0, 0, 0, 1, 0, 0, 0, 0, 0, 1, 0, 0, 1, 0])"
      ]
     },
     "execution_count": 14,
     "metadata": {},
     "output_type": "execute_result"
    }
   ],
   "source": [
    "Y2pred = classifier.predict(Xtest)\n",
    "Y2pred"
   ]
  },
  {
   "cell_type": "code",
   "execution_count": 15,
   "id": "1c1168d3-e44f-48f9-949e-c693092af611",
   "metadata": {},
   "outputs": [],
   "source": [
    "from sklearn.metrics import confusion_matrix,accuracy_score,precision_score,recall_score\n",
    "cnf_matrix2 = confusion_matrix(Ytest, Y2pred)\n",
    "accu2 = accuracy_score(Ytest, Y2pred)\n",
    "Prec2 = precision_score(Ytest, Y2pred)\n",
    "Recal2 = recall_score(Ytest, Y2pred)"
   ]
  },
  {
   "cell_type": "code",
   "execution_count": 16,
   "id": "1288e9b3-9cfe-4d72-8e56-cb06ecb16bd8",
   "metadata": {},
   "outputs": [
    {
     "data": {
      "text/plain": [
       "array([[79, 20],\n",
       "       [16, 39]])"
      ]
     },
     "execution_count": 16,
     "metadata": {},
     "output_type": "execute_result"
    }
   ],
   "source": [
    "cnf_matrix2"
   ]
  },
  {
   "cell_type": "code",
   "execution_count": 17,
   "id": "fd6c431a-67b3-4a8d-975e-071a5d06c4a8",
   "metadata": {},
   "outputs": [
    {
     "name": "stdout",
     "output_type": "stream",
     "text": [
      "Accuracy:  0.7662337662337663\n",
      "Precision: 0.6610169491525424\n",
      "Recall:    0.7090909090909091\n"
     ]
    }
   ],
   "source": [
    "print(\"Accuracy: \",accu2)\n",
    "print(\"Precision:\",Prec2)\n",
    "print(\"Recall:   \",Recal2)"
   ]
  },
  {
   "cell_type": "code",
   "execution_count": 18,
   "id": "cb205d69-631e-4c43-adc7-048ac0a795c5",
   "metadata": {},
   "outputs": [
    {
     "data": {
      "text/plain": [
       "Text(0.5, 257.44, 'Predicted label')"
      ]
     },
     "execution_count": 18,
     "metadata": {},
     "output_type": "execute_result"
    },
    {
     "data": {
      "image/png": "[encoded data removed]",
      "text/plain": [
       "<Figure size 432x288 with 2 Axes>"
      ]
     },
     "metadata": {
      "needs_background": "light"
     },
     "output_type": "display_data"
    }
   ],
   "source": [
    "class_names=[0,1] # name of classes\n",
    "fig, ax = plt.subplots()\n",
    "tick_marks = np.arange(len(class_names))\n",
    "plt.xticks(tick_marks, class_names)\n",
    "plt.yticks(tick_marks, class_names)\n",
    "# create heatmap\n",
    "sns.heatmap(pd.DataFrame(cnf_matrix2), annot=True, cmap=\"YlGnBu\" ,fmt='g')\n",
    "ax.xaxis.set_label_position(\"top\")\n",
    "plt.tight_layout()\n",
    "plt.title('Confusion matrix', y=1.1)\n",
    "plt.ylabel('Actual label')\n",
    "plt.xlabel('Predicted label')"
   ]
  },
  {
   "cell_type": "code",
   "execution_count": 19,
   "id": "4595ad95-a964-40f7-85d1-e24bd3032261",
   "metadata": {},
   "outputs": [],
   "source": [
    "# Nearly the same as problem 1"
   ]
  },
  {
   "cell_type": "code",
   "execution_count": 20,
   "id": "dd760b80-8fe4-4818-8d7a-763ed05f69ae",
   "metadata": {},
   "outputs": [],
   "source": [
    "# P 3."
   ]
  },
  {
   "cell_type": "code",
   "execution_count": 21,
   "id": "5e0afa71-4c7d-4b54-8ddb-c4bc5f1934d5",
   "metadata": {},
   "outputs": [],
   "source": [
    "from sklearn.preprocessing import StandardScaler\n",
    "sc_X = StandardScaler()\n",
    "X = sc_X.fit_transform(X)\n"
   ]
  },
  {
   "cell_type": "code",
   "execution_count": 22,
   "id": "0718e2cc-6f36-4f4d-b7cd-96ff2062318c",
   "metadata": {},
   "outputs": [],
   "source": [
    "classifier = LogisticRegression(random_state=42)"
   ]
  },
  {
   "cell_type": "code",
   "execution_count": 23,
   "id": "10ab6c4c-e6b6-44b9-b431-9a86eec1ffc0",
   "metadata": {},
   "outputs": [],
   "source": [
    "criteria = ['accuracy', 'precision', 'recall']"
   ]
  },
  {
   "cell_type": "code",
   "execution_count": 24,
   "id": "bab6f0b4-52f6-408b-a639-ff5cf25938dd",
   "metadata": {},
   "outputs": [
    {
     "data": {
      "text/plain": [
       "{'fit_time': array([0.00399899, 0.00397801, 0.004076  , 0.00417686, 0.00447226]),\n",
       " 'score_time': array([0.00185275, 0.00173903, 0.00193882, 0.00193191, 0.00197077]),\n",
       " 'test_accuracy': array([0.75324675, 0.78571429, 0.75324675, 0.80392157, 0.74509804]),\n",
       " 'test_precision': array([0.64912281, 0.65909091, 0.7804878 , 0.75757576, 0.73170732]),\n",
       " 'test_recall': array([0.67272727, 0.61702128, 0.52459016, 0.53191489, 0.51724138])}"
      ]
     },
     "execution_count": 24,
     "metadata": {},
     "output_type": "execute_result"
    }
   ],
   "source": [
    "from sklearn.model_selection import KFold,cross_validate\n",
    "split5 = KFold(n_splits=5, random_state=42, shuffle=True)\n",
    "perf5 = cross_validate(classifier, X, Y, scoring=criteria, cv=split5, n_jobs=-1)\n",
    "perf5"
   ]
  },
  {
   "cell_type": "code",
   "execution_count": 25,
   "id": "2a4d181d-9f31-496c-91ad-17338b9534b5",
   "metadata": {},
   "outputs": [
    {
     "name": "stdout",
     "output_type": "stream",
     "text": [
      "K=5:\n",
      "Accuracy  : 0.7682454800101859\n",
      "Precision : 0.7155969191270859\n",
      "Recall    : 0.5726989972369619\n"
     ]
    }
   ],
   "source": [
    "print(\"K=5:\")\n",
    "print(\"Accuracy  :\",perf5['test_accuracy'].mean())\n",
    "print(\"Precision :\",perf5['test_precision'].mean())\n",
    "print(\"Recall    :\",perf5['test_recall'].mean())"
   ]
  },
  {
   "cell_type": "code",
   "execution_count": 26,
   "id": "e89cac87-474f-4429-b118-5bc02ddd779f",
   "metadata": {},
   "outputs": [
    {
     "data": {
      "text/plain": [
       "{'fit_time': array([0.00373387, 0.00515771, 0.00480485, 0.00416994, 0.00447512,\n",
       "        0.00578308, 0.00366712, 0.00360107, 0.0068531 , 0.00626206]),\n",
       " 'score_time': array([0.00157428, 0.00181317, 0.00243807, 0.00197816, 0.0026288 ,\n",
       "        0.00330997, 0.00155187, 0.00154901, 0.00327873, 0.00283003]),\n",
       " 'test_accuracy': array([0.7012987 , 0.80519481, 0.72727273, 0.84415584, 0.83116883,\n",
       "        0.67532468, 0.85714286, 0.77922078, 0.71052632, 0.77631579]),\n",
       " 'test_precision': array([0.5625    , 0.76      , 0.58333333, 0.77777778, 0.82608696,\n",
       "        0.7       , 0.9       , 0.6       , 0.71428571, 0.75      ]),\n",
       " 'test_recall': array([0.66666667, 0.67857143, 0.56      , 0.63636364, 0.67857143,\n",
       "        0.42424242, 0.66666667, 0.45      , 0.48387097, 0.55555556])}"
      ]
     },
     "execution_count": 26,
     "metadata": {},
     "output_type": "execute_result"
    }
   ],
   "source": [
    "split10 = KFold(n_splits=10, random_state=42, shuffle=True)\n",
    "perf10 = cross_validate(classifier, X, Y, scoring=criteria, cv=split10, n_jobs=-1)\n",
    "perf10"
   ]
  },
  {
   "cell_type": "code",
   "execution_count": 27,
   "id": "f73fe8f7-314a-4f1e-89b6-f6202736a81c",
   "metadata": {},
   "outputs": [
    {
     "name": "stdout",
     "output_type": "stream",
     "text": [
      "K=10:\n",
      "Accuracy  : 0.7707621326042379\n",
      "Precision : 0.7173983781918565\n",
      "Recall    : 0.5800508774379743\n"
     ]
    }
   ],
   "source": [
    "print(\"K=10:\")\n",
    "print(\"Accuracy  :\",perf10['test_accuracy'].mean())\n",
    "print(\"Precision :\",perf10['test_precision'].mean())\n",
    "print(\"Recall    :\",perf10['test_recall'].mean())"
   ]
  },
  {
   "cell_type": "code",
   "execution_count": 28,
   "id": "b602a9a9-516d-4a65-bf23-9d4a372ee48a",
   "metadata": {},
   "outputs": [],
   "source": [
    "# The Accuracy, Precision and Recall were all slightly higher for the K=10 test. \n",
    "# The criterial were all higher on both of the K fold tests than they were from the logistic regression values."
   ]
  },
  {
   "cell_type": "code",
   "execution_count": 29,
   "id": "8a3ad633-9803-47f0-8efd-8457f96ce7a6",
   "metadata": {},
   "outputs": [],
   "source": [
    "# P 4."
   ]
  },
  {
   "cell_type": "code",
   "execution_count": 30,
   "id": "fc8d5942-e6e5-491b-835f-d76dfb423cbe",
   "metadata": {},
   "outputs": [],
   "source": [
    "classifierNB = GaussianNB()"
   ]
  },
  {
   "cell_type": "code",
   "execution_count": 31,
   "id": "572fad53-aab0-40d1-b7d3-0b6033ff6ab4",
   "metadata": {},
   "outputs": [],
   "source": [
    "criteriaNB = ['accuracy', 'precision', 'recall']"
   ]
  },
  {
   "cell_type": "code",
   "execution_count": 32,
   "id": "0dbebb39-1c84-43ae-bda5-815a687dfb66",
   "metadata": {},
   "outputs": [
    {
     "data": {
      "text/plain": [
       "{'fit_time': array([0.00087118, 0.00086498, 0.00108218, 0.00115204, 0.00108504]),\n",
       " 'score_time': array([0.00158715, 0.00157094, 0.00212502, 0.00272083, 0.00297976]),\n",
       " 'test_accuracy': array([0.76623377, 0.73376623, 0.74675325, 0.78431373, 0.73856209]),\n",
       " 'test_precision': array([0.66101695, 0.56      , 0.73913043, 0.675     , 0.6875    ]),\n",
       " 'test_recall': array([0.70909091, 0.59574468, 0.55737705, 0.57446809, 0.56896552])}"
      ]
     },
     "execution_count": 32,
     "metadata": {},
     "output_type": "execute_result"
    }
   ],
   "source": [
    "splitNB5 = KFold(n_splits=5, random_state=42, shuffle=True)\n",
    "perfNB5 = cross_validate(classifierNB, X, Y, scoring=criteriaNB, cv=splitNB5, n_jobs=-1)\n",
    "perfNB5"
   ]
  },
  {
   "cell_type": "code",
   "execution_count": 33,
   "id": "6cb28687-0601-42bb-a46c-31f9b9808207",
   "metadata": {},
   "outputs": [
    {
     "name": "stdout",
     "output_type": "stream",
     "text": [
      "NB K=5:\n",
      "Accuracy  : 0.7539258127493421\n",
      "Precision : 0.6645294767870302\n",
      "Recall    : 0.6011292482940126\n"
     ]
    }
   ],
   "source": [
    "print(\"NB K=5:\")\n",
    "print(\"Accuracy  :\",perfNB5['test_accuracy'].mean())\n",
    "print(\"Precision :\",perfNB5['test_precision'].mean())\n",
    "print(\"Recall    :\",perfNB5['test_recall'].mean())"
   ]
  },
  {
   "cell_type": "code",
   "execution_count": 34,
   "id": "869f52cd-4d1b-422d-800f-c8892a89e9ff",
   "metadata": {},
   "outputs": [
    {
     "data": {
      "text/plain": [
       "{'fit_time': array([0.00076795, 0.00117517, 0.00126505, 0.00127912, 0.00169873,\n",
       "        0.00162935, 0.00116086, 0.00154614, 0.00141096, 0.00184393]),\n",
       " 'score_time': array([0.00127101, 0.00233221, 0.00267482, 0.00243092, 0.00314021,\n",
       "        0.00218487, 0.00183916, 0.00217175, 0.002671  , 0.00232792]),\n",
       " 'test_accuracy': array([0.7012987 , 0.83116883, 0.68831169, 0.79220779, 0.80519481,\n",
       "        0.67532468, 0.85714286, 0.71428571, 0.65789474, 0.78947368]),\n",
       " 'test_precision': array([0.55882353, 0.77777778, 0.51851852, 0.63636364, 0.7826087 ,\n",
       "        0.68181818, 0.83333333, 0.42857143, 0.6       , 0.72      ]),\n",
       " 'test_recall': array([0.7037037 , 0.75      , 0.56      , 0.63636364, 0.64285714,\n",
       "        0.45454545, 0.74074074, 0.3       , 0.48387097, 0.66666667])}"
      ]
     },
     "execution_count": 34,
     "metadata": {},
     "output_type": "execute_result"
    }
   ],
   "source": [
    "splitNB10 = KFold(n_splits=10, random_state=42, shuffle=True)\n",
    "perfNB10 = cross_validate(classifierNB, X, Y, scoring=criteriaNB, cv=splitNB10, n_jobs=-1)\n",
    "perfNB10"
   ]
  },
  {
   "cell_type": "code",
   "execution_count": 35,
   "id": "b4f04656-9b3e-4be5-9065-3ae32b03a552",
   "metadata": {},
   "outputs": [
    {
     "name": "stdout",
     "output_type": "stream",
     "text": [
      "NB K=10:\n",
      "Accuracy  : 0.7512303485987697\n",
      "Precision : 0.6537815101446814\n",
      "Recall    : 0.5938748312619281\n"
     ]
    }
   ],
   "source": [
    "print(\"NB K=10:\")\n",
    "print(\"Accuracy  :\",perfNB10['test_accuracy'].mean())\n",
    "print(\"Precision :\",perfNB10['test_precision'].mean())\n",
    "print(\"Recall    :\",perfNB10['test_recall'].mean())"
   ]
  },
  {
   "cell_type": "code",
   "execution_count": 36,
   "id": "89e156b7-a595-4e22-b68e-7b843002b64d",
   "metadata": {},
   "outputs": [],
   "source": [
    "# The accuracy, precision and recall values produced by the K-fold cross-validation on the logistic regression increased with a larger K while the \n",
    "# the NB K-fold values decreased with a higher K value.  "
   ]
  },
  {
   "cell_type": "code",
   "execution_count": null,
   "id": "71eb768c-7d12-4835-9163-d41c842f0480",
   "metadata": {},
   "outputs": [],
   "source": []
  }
 ],
 "metadata": {
  "kernelspec": {
   "display_name": "Python 3",
   "language": "python",
   "name": "python3"
  },
  "language_info": {
   "codemirror_mode": {
    "name": "ipython",
    "version": 3
   },
   "file_extension": ".py",
   "mimetype": "text/x-python",
   "name": "python",
   "nbconvert_exporter": "python",
   "pygments_lexer": "ipython3",
   "version": "3.8.8"
  }
 },
 "nbformat": 4,
 "nbformat_minor": 5
}
