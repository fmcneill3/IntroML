{
 "cells": [
  {
   "cell_type": "code",
   "execution_count": 1,
   "id": "ecc48b63-872c-4db8-9254-e0db196995c8",
   "metadata": {},
   "outputs": [],
   "source": [
    "import numpy as np\n",
    "import pandas as pd\n",
    "import matplotlib.pyplot as plt\n",
    "from sklearn.datasets import load_breast_cancer\n",
    "\n"
   ]
  },
  {
   "cell_type": "code",
   "execution_count": 2,
   "id": "ffa3a996-97e5-45cb-8992-ce9da3ea7dbc",
   "metadata": {},
   "outputs": [],
   "source": [
    "breast = load_breast_cancer()\n"
   ]
  },
  {
   "cell_type": "code",
   "execution_count": 3,
   "id": "71eb768c-7d12-4835-9163-d41c842f0480",
   "metadata": {},
   "outputs": [],
   "source": [
    "breast_data = breast.data\n",
    "#breast_data.shape"
   ]
  },
  {
   "cell_type": "code",
   "execution_count": 4,
   "id": "f54b6950-49fb-472b-ae56-bafcd53d9ba4",
   "metadata": {},
   "outputs": [],
   "source": [
    "breast_input = pd.DataFrame(breast_data)\n",
    "#breast_input.head()"
   ]
  },
  {
   "cell_type": "code",
   "execution_count": 5,
   "id": "e69f83c8-9090-47ff-aa30-7df6bff4420a",
   "metadata": {},
   "outputs": [],
   "source": [
    "breast_labels = breast.target\n",
    "#breast_labels.shape"
   ]
  },
  {
   "cell_type": "code",
   "execution_count": 6,
   "id": "03814237-ced3-4e0f-b0b9-a2af622ed53b",
   "metadata": {},
   "outputs": [],
   "source": [
    "labels = np.reshape(breast_labels,(569,1))"
   ]
  },
  {
   "cell_type": "code",
   "execution_count": 7,
   "id": "7a0a62b2-9c0d-46f4-92ed-c4909843a107",
   "metadata": {},
   "outputs": [],
   "source": [
    "final_breast_data = np.concatenate([breast_data,labels],axis=1)"
   ]
  },
  {
   "cell_type": "code",
   "execution_count": 8,
   "id": "081e24b4-746e-4a4e-bbcb-cfae3345e15e",
   "metadata": {},
   "outputs": [
    {
     "data": {
      "text/plain": [
       "(569, 31)"
      ]
     },
     "execution_count": 8,
     "metadata": {},
     "output_type": "execute_result"
    }
   ],
   "source": [
    "final_breast_data.shape"
   ]
  },
  {
   "cell_type": "code",
   "execution_count": 9,
   "id": "0c916145-f2d4-4ac0-96bd-73e8f939e97d",
   "metadata": {},
   "outputs": [],
   "source": [
    "breast_dataset = pd.DataFrame(final_breast_data)"
   ]
  },
  {
   "cell_type": "code",
   "execution_count": 10,
   "id": "b4602f67-cd6f-4513-ae30-2977c31c67e5",
   "metadata": {},
   "outputs": [],
   "source": [
    "features = breast.feature_names\n",
    "#features"
   ]
  },
  {
   "cell_type": "code",
   "execution_count": 11,
   "id": "3ae71f59-624c-47a8-a4ea-8d27aeefdd52",
   "metadata": {},
   "outputs": [],
   "source": [
    "features_labels = np.append(features,'label')\n",
    "breast_dataset.columns = features_labels\n",
    "#breast_dataset.head()"
   ]
  },
  {
   "cell_type": "code",
   "execution_count": 12,
   "id": "d6993696-3a37-4e2b-9e0e-45881cca2ffe",
   "metadata": {},
   "outputs": [],
   "source": [
    "# P1"
   ]
  },
  {
   "cell_type": "code",
   "execution_count": 13,
   "id": "4c653182-45d9-43e7-bb13-250fc5e6bed4",
   "metadata": {},
   "outputs": [],
   "source": [
    "X_Data = breast_dataset.iloc[:, :30]\n",
    "Y_Data = breast_dataset.iloc[:, 30]"
   ]
  },
  {
   "cell_type": "code",
   "execution_count": 14,
   "id": "9ace4c4d-2525-4186-a44e-c7f2cd1bb070",
   "metadata": {},
   "outputs": [],
   "source": [
    "from sklearn.preprocessing import StandardScaler\n",
    "Scaler = StandardScaler()\n",
    "Scaled_X = Scaler.fit_transform(X_Data)"
   ]
  },
  {
   "cell_type": "code",
   "execution_count": 15,
   "id": "22429a48-7ee7-4410-adb8-506b5dc444f5",
   "metadata": {},
   "outputs": [],
   "source": [
    "from sklearn.model_selection import train_test_split\n",
    "X_train, X_test, Y_train, Y_test = train_test_split(Scaled_X, Y_Data, test_size = .2, random_state = 0)"
   ]
  },
  {
   "cell_type": "code",
   "execution_count": 16,
   "id": "f5e453e7-b21f-4c03-9add-7924227711f1",
   "metadata": {},
   "outputs": [
    {
     "data": {
      "text/plain": [
       "LogisticRegression(random_state=0)"
      ]
     },
     "execution_count": 16,
     "metadata": {},
     "output_type": "execute_result"
    }
   ],
   "source": [
    "from sklearn.linear_model import LogisticRegression\n",
    "classifier = LogisticRegression(random_state=0)\n",
    "classifier.fit(X_train, Y_train)"
   ]
  },
  {
   "cell_type": "code",
   "execution_count": 17,
   "id": "7ba3f9ca-e8f4-4153-bd10-bac899e389fe",
   "metadata": {},
   "outputs": [],
   "source": [
    "Y_pred = classifier.predict(X_test)\n"
   ]
  },
  {
   "cell_type": "code",
   "execution_count": 18,
   "id": "175e4392-13c7-4a54-bebb-d32d1e650412",
   "metadata": {},
   "outputs": [],
   "source": [
    "from sklearn.metrics import confusion_matrix\n",
    "cnf_matrix = confusion_matrix(Y_test, Y_pred)"
   ]
  },
  {
   "cell_type": "code",
   "execution_count": 19,
   "id": "3c496bca-ba55-42a0-97d4-cbcd689464c3",
   "metadata": {},
   "outputs": [
    {
     "name": "stdout",
     "output_type": "stream",
     "text": [
      "Accuracy: 0.9649122807017544\n",
      "Precision: 0.9701492537313433\n",
      "Recall: 0.9701492537313433\n"
     ]
    }
   ],
   "source": [
    "from sklearn import metrics\n",
    "print(\"Accuracy:\",metrics.accuracy_score(Y_test, Y_pred))\n",
    "print(\"Precision:\",metrics.precision_score(Y_test, Y_pred))\n",
    "print(\"Recall:\",metrics.recall_score(Y_test, Y_pred))"
   ]
  },
  {
   "cell_type": "code",
   "execution_count": 20,
   "id": "d91b90ad-7b69-48f2-a405-0825f0889d7f",
   "metadata": {},
   "outputs": [
    {
     "data": {
      "text/plain": [
       "Text(0.5, 257.44, 'Predicted label')"
      ]
     },
     "execution_count": 20,
     "metadata": {},
     "output_type": "execute_result"
    },
    {
     "data": {
      "image/png": "[encoded data removed]",
      "text/plain": [
       "<Figure size 432x288 with 2 Axes>"
      ]
     },
     "metadata": {
      "needs_background": "light"
     },
     "output_type": "display_data"
    }
   ],
   "source": [
    "import seaborn as sns\n",
    "class_names=[0,1] # name of classes\n",
    "fig, ax = plt.subplots()\n",
    "tick_marks = np.arange(len(class_names))\n",
    "plt.xticks(tick_marks, class_names)\n",
    "plt.yticks(tick_marks, class_names)\n",
    "# create heatmap\n",
    "sns.heatmap(pd.DataFrame(cnf_matrix), annot=True, cmap=\"YlGnBu\" ,fmt='g')\n",
    "ax.xaxis.set_label_position(\"top\")\n",
    "plt.tight_layout()\n",
    "plt.title('Confusion matrix', y=1.1)\n",
    "plt.ylabel('Actual label')\n",
    "plt.xlabel('Predicted label')"
   ]
  },
  {
   "cell_type": "code",
   "execution_count": 21,
   "id": "8e062ac6-3a3a-4271-8039-a97d748e410b",
   "metadata": {},
   "outputs": [],
   "source": [
    "# P2"
   ]
  },
  {
   "cell_type": "code",
   "execution_count": 22,
   "id": "9a0c2440-1f9b-477c-86d2-ef2ed7dc5a61",
   "metadata": {},
   "outputs": [],
   "source": [
    "from sklearn.decomposition import PCA\n",
    "Accuracy_score = np.zeros(29)\n",
    "Precision_score = np.zeros(29)\n",
    "Recall_score = np.zeros(29)\n",
    "\n",
    "for i in range(29):\n",
    "    pca = PCA(n_components=i+1)\n",
    "    principalComponents = pca.fit_transform(Scaled_X)\n",
    "    principalDf = pd.DataFrame(data = principalComponents)\n",
    "    X_train2, X_test2, Y_train2, Y_test2 = train_test_split(principalDf, Y_Data, test_size = .2, random_state = 0) \n",
    "    classifier = LogisticRegression(random_state = 0)\n",
    "    classifier.fit(X_train2, Y_train2)\n",
    "    Y_pred2 = classifier.predict(X_test2)\n",
    "    Accuracy_score[i] = metrics.accuracy_score(Y_test2, Y_pred2)\n",
    "    Precision_score[i]= metrics.precision_score(Y_test2, Y_pred2)\n",
    "    Recall_score[i] = metrics.recall_score(Y_test2, Y_pred2)\n",
    "    "
   ]
  },
  {
   "cell_type": "code",
   "execution_count": 23,
   "id": "c57d29a6-dbda-4850-b89b-dd6bcc523960",
   "metadata": {},
   "outputs": [
    {
     "data": {
      "image/png": "[encoded data removed]",
      "text/plain": [
       "<Figure size 432x288 with 1 Axes>"
      ]
     },
     "metadata": {
      "needs_background": "light"
     },
     "output_type": "display_data"
    }
   ],
   "source": [
    "plt.figure()\n",
    "plt.plot(range(29),Accuracy_score)\n",
    "plt.xlabel('N value')\n",
    "plt.ylabel('Accuracy')\n",
    "plt.show()"
   ]
  },
  {
   "cell_type": "code",
   "execution_count": 24,
   "id": "0b5550e9-d50f-4447-b928-85d9531fd30e",
   "metadata": {},
   "outputs": [
    {
     "data": {
      "image/png": "[encoded data removed]",
      "text/plain": [
       "<Figure size 432x288 with 1 Axes>"
      ]
     },
     "metadata": {
      "needs_background": "light"
     },
     "output_type": "display_data"
    }
   ],
   "source": [
    "plt.figure()\n",
    "plt.plot(range(29),Precision_score)\n",
    "plt.xlabel('N value')\n",
    "plt.ylabel('Precision')\n",
    "plt.show()"
   ]
  },
  {
   "cell_type": "code",
   "execution_count": 25,
   "id": "2f9b6a7b-d974-4c20-b023-3cfa23fe0519",
   "metadata": {},
   "outputs": [
    {
     "data": {
      "image/png": "[encoded data removed]",
      "text/plain": [
       "<Figure size 432x288 with 1 Axes>"
      ]
     },
     "metadata": {
      "needs_background": "light"
     },
     "output_type": "display_data"
    }
   ],
   "source": [
    "plt.figure()\n",
    "plt.plot(range(29),Recall_score)\n",
    "plt.xlabel('N value')\n",
    "plt.ylabel('Recall')\n",
    "plt.show()"
   ]
  },
  {
   "cell_type": "code",
   "execution_count": 26,
   "id": "c5bb6892-245b-4537-91f9-43c7fa9af90b",
   "metadata": {},
   "outputs": [],
   "source": [
    "# Optimum K appears to be between 10 - 13"
   ]
  },
  {
   "cell_type": "code",
   "execution_count": 27,
   "id": "344fc9da-82ae-4ccc-9c31-5bae94813225",
   "metadata": {},
   "outputs": [],
   "source": [
    "# P3"
   ]
  },
  {
   "cell_type": "code",
   "execution_count": 28,
   "id": "3c9d8cfe-fa6e-4ee0-b0ad-635a81233fd3",
   "metadata": {},
   "outputs": [],
   "source": [
    "from sklearn.discriminant_analysis import LinearDiscriminantAnalysis\n",
    "lda = LinearDiscriminantAnalysis(n_components=1)\n",
    "lda_t = lda.fit_transform(X_Data,Y_Data)"
   ]
  },
  {
   "cell_type": "code",
   "execution_count": 29,
   "id": "f698324b-74d0-4e4a-8589-873e0346ab6a",
   "metadata": {},
   "outputs": [],
   "source": [
    "X_train3, X_test3, Y_train3, Y_test3 = train_test_split(lda_t, Y_Data, test_size = .2, random_state = 0) \n",
    "lda.fit(X_train3, Y_train3)\n",
    "Y_pred3 = lda.predict(X_test3)\n",
    "cnf3 = confusion_matrix(Y_test3, Y_pred3)"
   ]
  },
  {
   "cell_type": "code",
   "execution_count": 30,
   "id": "6d279887-c4c2-4f96-adab-9e6db82e9409",
   "metadata": {},
   "outputs": [
    {
     "name": "stdout",
     "output_type": "stream",
     "text": [
      "Accuracy: 0.9824561403508771\n",
      "Precision: 0.9710144927536232\n",
      "Recall: 1.0\n"
     ]
    }
   ],
   "source": [
    "print(\"Accuracy:\",metrics.accuracy_score(Y_test3, Y_pred3))\n",
    "print(\"Precision:\",metrics.precision_score(Y_test3, Y_pred3))\n",
    "print(\"Recall:\",metrics.recall_score(Y_test3, Y_pred3))"
   ]
  },
  {
   "cell_type": "code",
   "execution_count": 31,
   "id": "94ec6562-61b3-4cd3-a8ff-c6c10e4772b2",
   "metadata": {},
   "outputs": [],
   "source": [
    "# P4"
   ]
  },
  {
   "cell_type": "code",
   "execution_count": 32,
   "id": "ecec061a-e739-4e6d-8131-969115aeee62",
   "metadata": {},
   "outputs": [],
   "source": [
    "X_train4, X_test4, Y_train4, Y_test4 = train_test_split(lda_t, Y_Data, test_size = .2, random_state = 0)\n",
    "classifier = LogisticRegression(random_state = 0)\n",
    "classifier.fit(X_train4, Y_train4)\n",
    "Y_pred4 = classifier.predict(X_test4)\n"
   ]
  },
  {
   "cell_type": "code",
   "execution_count": 33,
   "id": "50916740-9189-4755-937f-241ee4862112",
   "metadata": {},
   "outputs": [
    {
     "name": "stdout",
     "output_type": "stream",
     "text": [
      "Accuracy: 0.9736842105263158\n",
      "Precision: 0.9705882352941176\n",
      "Recall: 0.9850746268656716\n"
     ]
    }
   ],
   "source": [
    "print(\"Accuracy:\",metrics.accuracy_score(Y_test4, Y_pred4))\n",
    "print(\"Precision:\",metrics.precision_score(Y_test4, Y_pred4))\n",
    "print(\"Recall:\",metrics.recall_score(Y_test4, Y_pred4))"
   ]
  },
  {
   "cell_type": "code",
   "execution_count": null,
   "id": "969774d9-818f-46f3-9059-092a366e3222",
   "metadata": {},
   "outputs": [],
   "source": []
  },
  {
   "cell_type": "code",
   "execution_count": null,
   "id": "6e6b52a9-6e02-42cb-94c6-4e9d535e2a0a",
   "metadata": {},
   "outputs": [],
   "source": []
  },
  {
   "cell_type": "code",
   "execution_count": null,
   "id": "57f09ee7-9a97-4cf1-9b4b-0dbf39869b03",
   "metadata": {},
   "outputs": [],
   "source": []
  },
  {
   "cell_type": "code",
   "execution_count": null,
   "id": "33a33216-f287-45c3-bcae-0013829aa3ad",
   "metadata": {},
   "outputs": [],
   "source": []
  },
  {
   "cell_type": "code",
   "execution_count": null,
   "id": "65d38d44-eebc-41cc-8587-782473eada0a",
   "metadata": {},
   "outputs": [],
   "source": []
  },
  {
   "cell_type": "code",
   "execution_count": null,
   "id": "623f527a-e073-4d54-a48d-855fe9150220",
   "metadata": {},
   "outputs": [],
   "source": []
  },
  {
   "cell_type": "code",
   "execution_count": null,
   "id": "d170e202-b777-4b02-86ba-a8e4c40eef1d",
   "metadata": {},
   "outputs": [],
   "source": []
  },
  {
   "cell_type": "code",
   "execution_count": null,
   "id": "d575041f-2a2e-4d57-bb59-469edf6ef690",
   "metadata": {},
   "outputs": [],
   "source": []
  },
  {
   "cell_type": "code",
   "execution_count": null,
   "id": "25ca1df0-281b-4601-8c64-98d2db29215d",
   "metadata": {},
   "outputs": [],
   "source": []
  }
 ],
 "metadata": {
  "kernelspec": {
   "display_name": "Python 3",
   "language": "python",
   "name": "python3"
  },
  "language_info": {
   "codemirror_mode": {
    "name": "ipython",
    "version": 3
   },
   "file_extension": ".py",
   "mimetype": "text/x-python",
   "name": "python",
   "nbconvert_exporter": "python",
   "pygments_lexer": "ipython3",
   "version": "3.8.8"
  }
 },
 "nbformat": 4,
 "nbformat_minor": 5
}
